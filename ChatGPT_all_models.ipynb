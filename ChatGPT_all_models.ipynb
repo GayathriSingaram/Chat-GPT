{
 "cells": [
  {
   "cell_type": "markdown",
   "id": "b0522baa",
   "metadata": {},
   "source": [
    "# Detecting ChatGPT generated text from Human-written text"
   ]
  },
  {
   "cell_type": "code",
   "execution_count": 253,
   "id": "5231d106",
   "metadata": {},
   "outputs": [],
   "source": [
    "#Importing necessary libraries\n",
    "import pandas as pd\n",
    "import numpy as np\n",
    "import re"
   ]
  },
  {
   "cell_type": "code",
   "execution_count": 254,
   "id": "779941b1",
   "metadata": {
    "scrolled": true
   },
   "outputs": [
    {
     "data": {
      "text/html": [
       "<div>\n",
       "<style scoped>\n",
       "    .dataframe tbody tr th:only-of-type {\n",
       "        vertical-align: middle;\n",
       "    }\n",
       "\n",
       "    .dataframe tbody tr th {\n",
       "        vertical-align: top;\n",
       "    }\n",
       "\n",
       "    .dataframe thead th {\n",
       "        text-align: right;\n",
       "    }\n",
       "</style>\n",
       "<table border=\"1\" class=\"dataframe\">\n",
       "  <thead>\n",
       "    <tr style=\"text-align: right;\">\n",
       "      <th></th>\n",
       "      <th>Question</th>\n",
       "      <th>Human</th>\n",
       "      <th>ChatGPT</th>\n",
       "    </tr>\n",
       "  </thead>\n",
       "  <tbody>\n",
       "    <tr>\n",
       "      <th>0</th>\n",
       "      <td>what is NLP</td>\n",
       "      <td>NLP is a multidisciplinary field that draws fr...</td>\n",
       "      <td>NLP, or Natural Language Processing, is a subf...</td>\n",
       "    </tr>\n",
       "    <tr>\n",
       "      <th>1</th>\n",
       "      <td>what are the applications of NLP</td>\n",
       "      <td>There are a variety of emerging applications f...</td>\n",
       "      <td>There are many applications of NLP across vari...</td>\n",
       "    </tr>\n",
       "    <tr>\n",
       "      <th>2</th>\n",
       "      <td>what is netiquette</td>\n",
       "      <td>As each new means of communication and social ...</td>\n",
       "      <td>Netiquette is a term used to describe the prop...</td>\n",
       "    </tr>\n",
       "    <tr>\n",
       "      <th>3</th>\n",
       "      <td>what did Chuq von Rospach suggest regarding ne...</td>\n",
       "      <td>These suggestions \\r\\ninclude:\\r\\n• Learn abou...</td>\n",
       "      <td>Chuq von Rospach is a well-known author and sp...</td>\n",
       "    </tr>\n",
       "    <tr>\n",
       "      <th>4</th>\n",
       "      <td>what do the advocates of net neutrality say</td>\n",
       "      <td>In recent years there has been growing concern...</td>\n",
       "      <td>Advocates of net neutrality argue that all int...</td>\n",
       "    </tr>\n",
       "  </tbody>\n",
       "</table>\n",
       "</div>"
      ],
      "text/plain": [
       "                                            Question  \\\n",
       "0                                        what is NLP   \n",
       "1                   what are the applications of NLP   \n",
       "2                                 what is netiquette   \n",
       "3  what did Chuq von Rospach suggest regarding ne...   \n",
       "4        what do the advocates of net neutrality say   \n",
       "\n",
       "                                               Human  \\\n",
       "0  NLP is a multidisciplinary field that draws fr...   \n",
       "1  There are a variety of emerging applications f...   \n",
       "2  As each new means of communication and social ...   \n",
       "3  These suggestions \\r\\ninclude:\\r\\n• Learn abou...   \n",
       "4  In recent years there has been growing concern...   \n",
       "\n",
       "                                             ChatGPT  \n",
       "0  NLP, or Natural Language Processing, is a subf...  \n",
       "1  There are many applications of NLP across vari...  \n",
       "2  Netiquette is a term used to describe the prop...  \n",
       "3  Chuq von Rospach is a well-known author and sp...  \n",
       "4  Advocates of net neutrality argue that all int...  "
      ]
     },
     "execution_count": 254,
     "metadata": {},
     "output_type": "execute_result"
    }
   ],
   "source": [
    "#reading the csv file\n",
    "df=pd.read_csv('GPT1000.csv', encoding = \"utf-8\")\n",
    "df.head()"
   ]
  },
  {
   "cell_type": "markdown",
   "id": "f895ddd9",
   "metadata": {},
   "source": [
    "### Data reshaping and cleaning"
   ]
  },
  {
   "cell_type": "code",
   "execution_count": 255,
   "id": "01c691ec",
   "metadata": {},
   "outputs": [],
   "source": [
    "#Creating new dataframes\n",
    "df1=df['Human']\n",
    "df2=df['ChatGPT']"
   ]
  },
  {
   "cell_type": "code",
   "execution_count": 256,
   "id": "355e4137",
   "metadata": {},
   "outputs": [],
   "source": [
    "df1=df1.to_frame()\n",
    "df2=df2.to_frame()"
   ]
  },
  {
   "cell_type": "code",
   "execution_count": 257,
   "id": "fbb35430",
   "metadata": {},
   "outputs": [],
   "source": [
    "#Assiging labels to respective text\n",
    "df1['Label'] = 'Human'\n",
    "df2['Label'] = 'GPT'\n",
    "df1 = df1.rename(columns={'Human': 'Paragraph'})\n",
    "df2 = df2.rename(columns={'ChatGPT': 'Paragraph'})"
   ]
  },
  {
   "cell_type": "code",
   "execution_count": 258,
   "id": "b17a6ab0",
   "metadata": {},
   "outputs": [],
   "source": [
    "#Concatenating data frames df1 and df2\n",
    "data = pd.concat([df1,df2], ignore_index=True)"
   ]
  },
  {
   "cell_type": "code",
   "execution_count": 259,
   "id": "ca208eb8",
   "metadata": {},
   "outputs": [
    {
     "data": {
      "text/plain": [
       "Human    509\n",
       "GPT      509\n",
       "Name: Label, dtype: int64"
      ]
     },
     "execution_count": 259,
     "metadata": {},
     "output_type": "execute_result"
    }
   ],
   "source": [
    "data.Label.value_counts()"
   ]
  },
  {
   "cell_type": "code",
   "execution_count": 260,
   "id": "4956e369",
   "metadata": {},
   "outputs": [
    {
     "data": {
      "text/plain": [
       "'As each new means of communication and social interaction is introduced, social customs and etiquette evolve in \\r\\nresponse. For example, it took time before the practice of \\r\\nsaying “hello” and identifying oneself became the universal \\r\\nway to initiate a phone conversation.\\r\\nBy the 1980s, a system of topical news postings (see \\r\\nnetnews and newsgroups) carried on the Internet was \\r\\nbecoming widely used in universities, the computer industry, and scientific institutions. Many new users did not \\r\\nunderstand the system, and posted messages that were \\r\\noff topic. Others used their postings as to insult or attack \\r\\n(“flame”) other users, particularly in newsgroups discussing perennially controversial topics such as abortion. When \\r\\na significant number of postings in a newsgroup are devoted \\r\\nto flaming and counter-flaming, many users who had sought \\r\\ncivilized, intelligent discussion leave in protest.\\r\\nIn 1984, Chuq von Rospach wrote a document entitled \\r\\n“A Primer on How to Work with the Usenet Community.” It \\r\\nand later guides to net etiquette or “netiquette” offered useful guidelines to new users and to more experienced users \\r\\nwho wanted to facilitate civil discourse.'"
      ]
     },
     "execution_count": 260,
     "metadata": {},
     "output_type": "execute_result"
    }
   ],
   "source": [
    "data.Paragraph[2]"
   ]
  },
  {
   "cell_type": "code",
   "execution_count": 261,
   "id": "f9967f00",
   "metadata": {},
   "outputs": [
    {
     "data": {
      "text/html": [
       "<div>\n",
       "<style scoped>\n",
       "    .dataframe tbody tr th:only-of-type {\n",
       "        vertical-align: middle;\n",
       "    }\n",
       "\n",
       "    .dataframe tbody tr th {\n",
       "        vertical-align: top;\n",
       "    }\n",
       "\n",
       "    .dataframe thead th {\n",
       "        text-align: right;\n",
       "    }\n",
       "</style>\n",
       "<table border=\"1\" class=\"dataframe\">\n",
       "  <thead>\n",
       "    <tr style=\"text-align: right;\">\n",
       "      <th></th>\n",
       "      <th>Paragraph</th>\n",
       "      <th>Label</th>\n",
       "      <th>cleanp</th>\n",
       "    </tr>\n",
       "  </thead>\n",
       "  <tbody>\n",
       "    <tr>\n",
       "      <th>0</th>\n",
       "      <td>NLP is a multidisciplinary field that draws fr...</td>\n",
       "      <td>Human</td>\n",
       "      <td>NLP is a multidisciplinary field that draws fr...</td>\n",
       "    </tr>\n",
       "    <tr>\n",
       "      <th>1</th>\n",
       "      <td>There are a variety of emerging applications f...</td>\n",
       "      <td>Human</td>\n",
       "      <td>There are a variety of emerging applications f...</td>\n",
       "    </tr>\n",
       "    <tr>\n",
       "      <th>2</th>\n",
       "      <td>As each new means of communication and social ...</td>\n",
       "      <td>Human</td>\n",
       "      <td>As each new means of communication and social ...</td>\n",
       "    </tr>\n",
       "    <tr>\n",
       "      <th>3</th>\n",
       "      <td>These suggestions \\r\\ninclude:\\r\\n• Learn abou...</td>\n",
       "      <td>Human</td>\n",
       "      <td>These suggestions include:, Learn about the pu...</td>\n",
       "    </tr>\n",
       "    <tr>\n",
       "      <th>4</th>\n",
       "      <td>In recent years there has been growing concern...</td>\n",
       "      <td>Human</td>\n",
       "      <td>In recent years there has been growing concern...</td>\n",
       "    </tr>\n",
       "    <tr>\n",
       "      <th>...</th>\n",
       "      <td>...</td>\n",
       "      <td>...</td>\n",
       "      <td>...</td>\n",
       "    </tr>\n",
       "    <tr>\n",
       "      <th>1013</th>\n",
       "      <td>Palettes can refer to different things dependi...</td>\n",
       "      <td>GPT</td>\n",
       "      <td>Palettes can refer to different things dependi...</td>\n",
       "    </tr>\n",
       "    <tr>\n",
       "      <th>1014</th>\n",
       "      <td>Probability is a measure of the likelihood tha...</td>\n",
       "      <td>GPT</td>\n",
       "      <td>Probability is a measure of the likelihood tha...</td>\n",
       "    </tr>\n",
       "    <tr>\n",
       "      <th>1015</th>\n",
       "      <td>A compiler is a software program that translat...</td>\n",
       "      <td>GPT</td>\n",
       "      <td>A compiler is a software program that translat...</td>\n",
       "    </tr>\n",
       "    <tr>\n",
       "      <th>1016</th>\n",
       "      <td>The compilation process is the process by whic...</td>\n",
       "      <td>GPT</td>\n",
       "      <td>The compilation process is the process by whic...</td>\n",
       "    </tr>\n",
       "    <tr>\n",
       "      <th>1017</th>\n",
       "      <td>Code generation is the process of converting t...</td>\n",
       "      <td>GPT</td>\n",
       "      <td>Code generation is the process of converting t...</td>\n",
       "    </tr>\n",
       "  </tbody>\n",
       "</table>\n",
       "<p>1018 rows × 3 columns</p>\n",
       "</div>"
      ],
      "text/plain": [
       "                                              Paragraph  Label  \\\n",
       "0     NLP is a multidisciplinary field that draws fr...  Human   \n",
       "1     There are a variety of emerging applications f...  Human   \n",
       "2     As each new means of communication and social ...  Human   \n",
       "3     These suggestions \\r\\ninclude:\\r\\n• Learn abou...  Human   \n",
       "4     In recent years there has been growing concern...  Human   \n",
       "...                                                 ...    ...   \n",
       "1013  Palettes can refer to different things dependi...    GPT   \n",
       "1014  Probability is a measure of the likelihood tha...    GPT   \n",
       "1015  A compiler is a software program that translat...    GPT   \n",
       "1016  The compilation process is the process by whic...    GPT   \n",
       "1017  Code generation is the process of converting t...    GPT   \n",
       "\n",
       "                                                 cleanp  \n",
       "0     NLP is a multidisciplinary field that draws fr...  \n",
       "1     There are a variety of emerging applications f...  \n",
       "2     As each new means of communication and social ...  \n",
       "3     These suggestions include:, Learn about the pu...  \n",
       "4     In recent years there has been growing concern...  \n",
       "...                                                 ...  \n",
       "1013  Palettes can refer to different things dependi...  \n",
       "1014  Probability is a measure of the likelihood tha...  \n",
       "1015  A compiler is a software program that translat...  \n",
       "1016  The compilation process is the process by whic...  \n",
       "1017  Code generation is the process of converting t...  \n",
       "\n",
       "[1018 rows x 3 columns]"
      ]
     },
     "execution_count": 261,
     "metadata": {},
     "output_type": "execute_result"
    }
   ],
   "source": [
    "#data cleaning for noise reemoval \n",
    "length=data.shape[0]\n",
    "l1=[]\n",
    "for i in range(length):\n",
    "    Paragraph=data.Paragraph[i]\n",
    "    pattern = '\\x02'\n",
    "    Paragraph=re.sub(pattern, '',str(Paragraph))\n",
    "    pattern = '\\.'\n",
    "    Paragraph=re.sub(pattern, '. ',str(Paragraph))\n",
    "    pattern = '\\\\n'\n",
    "    Paragraph=re.sub(pattern, '',str(Paragraph))\n",
    "    pattern = '\\\\r'\n",
    "    Paragraph=re.sub(pattern, '',str(Paragraph))\n",
    "    pattern = '\\\\•'\n",
    "    Paragraph=re.sub(pattern, ',',str(Paragraph))\n",
    "    pattern='\\(see.[^\\)]*\\)'\n",
    "    Paragraph=re.sub(pattern, ',',str(Paragraph))\n",
    "    l1.append(Paragraph)\n",
    "    \n",
    "data['cleanp'] = np.array(l1)\n",
    "data"
   ]
  },
  {
   "cell_type": "code",
   "execution_count": 262,
   "id": "49b47cc7",
   "metadata": {},
   "outputs": [
    {
     "data": {
      "text/plain": [
       "'As each new means of communication and social interaction is introduced, social customs and etiquette evolve in response.  For example, it took time before the practice of saying “hello” and identifying oneself became the universal way to initiate a phone conversation. By the 1980s, a system of topical news postings , carried on the Internet was becoming widely used in universities, the computer industry, and scientific institutions.  Many new users did not understand the system, and posted messages that were off topic.  Others used their postings as to insult or attack (“flame”) other users, particularly in newsgroups discussing perennially controversial topics such as abortion.  When a significant number of postings in a newsgroup are devoted to flaming and counter-flaming, many users who had sought civilized, intelligent discussion leave in protest. In 1984, Chuq von Rospach wrote a document entitled “A Primer on How to Work with the Usenet Community. ” It and later guides to net etiquette or “netiquette” offered useful guidelines to new users and to more experienced users who wanted to facilitate civil discourse. '"
      ]
     },
     "execution_count": 262,
     "metadata": {},
     "output_type": "execute_result"
    }
   ],
   "source": [
    "data.cleanp[2]"
   ]
  },
  {
   "cell_type": "code",
   "execution_count": 263,
   "id": "9c0634e9",
   "metadata": {},
   "outputs": [],
   "source": [
    "#Mapping the 'Label' values to 0 for 'Human' and 1 for 'GPT',\n",
    "data['cls']=data['Label'].map({'Human':0,'GPT':1})"
   ]
  },
  {
   "cell_type": "code",
   "execution_count": 264,
   "id": "df6c2012",
   "metadata": {},
   "outputs": [],
   "source": [
    "data = data.drop(columns=['Paragraph', 'Label'])"
   ]
  },
  {
   "cell_type": "code",
   "execution_count": 265,
   "id": "54158301",
   "metadata": {},
   "outputs": [
    {
     "data": {
      "text/html": [
       "<div>\n",
       "<style scoped>\n",
       "    .dataframe tbody tr th:only-of-type {\n",
       "        vertical-align: middle;\n",
       "    }\n",
       "\n",
       "    .dataframe tbody tr th {\n",
       "        vertical-align: top;\n",
       "    }\n",
       "\n",
       "    .dataframe thead th {\n",
       "        text-align: right;\n",
       "    }\n",
       "</style>\n",
       "<table border=\"1\" class=\"dataframe\">\n",
       "  <thead>\n",
       "    <tr style=\"text-align: right;\">\n",
       "      <th></th>\n",
       "      <th>cleanp</th>\n",
       "      <th>cls</th>\n",
       "    </tr>\n",
       "  </thead>\n",
       "  <tbody>\n",
       "    <tr>\n",
       "      <th>500</th>\n",
       "      <td>Cognitive science is the study of mental proce...</td>\n",
       "      <td>0</td>\n",
       "    </tr>\n",
       "    <tr>\n",
       "      <th>501</th>\n",
       "      <td>With the exception of a few experimental syste...</td>\n",
       "      <td>0</td>\n",
       "    </tr>\n",
       "    <tr>\n",
       "      <th>502</th>\n",
       "      <td>One of the simplest color systems displays col...</td>\n",
       "      <td>0</td>\n",
       "    </tr>\n",
       "    <tr>\n",
       "      <th>503</th>\n",
       "      <td>CMYK stands for cyan, magenta, yellow, and bla...</td>\n",
       "      <td>0</td>\n",
       "    </tr>\n",
       "    <tr>\n",
       "      <th>504</th>\n",
       "      <td>Although most color schemes now support thousa...</td>\n",
       "      <td>0</td>\n",
       "    </tr>\n",
       "    <tr>\n",
       "      <th>505</th>\n",
       "      <td>Portability is the ability to adapt software o...</td>\n",
       "      <td>0</td>\n",
       "    </tr>\n",
       "    <tr>\n",
       "      <th>506</th>\n",
       "      <td>A compiler is a program that takes as input a ...</td>\n",
       "      <td>0</td>\n",
       "    </tr>\n",
       "    <tr>\n",
       "      <th>507</th>\n",
       "      <td>Compilers are traditionally thought of as havi...</td>\n",
       "      <td>0</td>\n",
       "    </tr>\n",
       "    <tr>\n",
       "      <th>508</th>\n",
       "      <td>The process of code generation usually involve...</td>\n",
       "      <td>0</td>\n",
       "    </tr>\n",
       "    <tr>\n",
       "      <th>509</th>\n",
       "      <td>NLP, or Natural Language Processing, is a subf...</td>\n",
       "      <td>1</td>\n",
       "    </tr>\n",
       "    <tr>\n",
       "      <th>510</th>\n",
       "      <td>There are many applications of NLP across vari...</td>\n",
       "      <td>1</td>\n",
       "    </tr>\n",
       "    <tr>\n",
       "      <th>511</th>\n",
       "      <td>Netiquette is a term used to describe the prop...</td>\n",
       "      <td>1</td>\n",
       "    </tr>\n",
       "    <tr>\n",
       "      <th>512</th>\n",
       "      <td>Chuq von Rospach is a well-known author and sp...</td>\n",
       "      <td>1</td>\n",
       "    </tr>\n",
       "    <tr>\n",
       "      <th>513</th>\n",
       "      <td>Advocates of net neutrality argue that all int...</td>\n",
       "      <td>1</td>\n",
       "    </tr>\n",
       "    <tr>\n",
       "      <th>514</th>\n",
       "      <td>Newsgroups emerged in the early days of the in...</td>\n",
       "      <td>1</td>\n",
       "    </tr>\n",
       "    <tr>\n",
       "      <th>515</th>\n",
       "      <td>Netnews, also known as Usenet, is a distribute...</td>\n",
       "      <td>1</td>\n",
       "    </tr>\n",
       "    <tr>\n",
       "      <th>516</th>\n",
       "      <td>Netnews, or Usenet, is a distributed system fo...</td>\n",
       "      <td>1</td>\n",
       "    </tr>\n",
       "    <tr>\n",
       "      <th>517</th>\n",
       "      <td>The idea of networks has been around for centu...</td>\n",
       "      <td>1</td>\n",
       "    </tr>\n",
       "    <tr>\n",
       "      <th>518</th>\n",
       "      <td>The OSI (Open Systems Interconnection) model i...</td>\n",
       "      <td>1</td>\n",
       "    </tr>\n",
       "    <tr>\n",
       "      <th>519</th>\n",
       "      <td>NAS stands for Network-Attached Storage.  It r...</td>\n",
       "      <td>1</td>\n",
       "    </tr>\n",
       "  </tbody>\n",
       "</table>\n",
       "</div>"
      ],
      "text/plain": [
       "                                                cleanp  cls\n",
       "500  Cognitive science is the study of mental proce...    0\n",
       "501  With the exception of a few experimental syste...    0\n",
       "502  One of the simplest color systems displays col...    0\n",
       "503  CMYK stands for cyan, magenta, yellow, and bla...    0\n",
       "504  Although most color schemes now support thousa...    0\n",
       "505  Portability is the ability to adapt software o...    0\n",
       "506  A compiler is a program that takes as input a ...    0\n",
       "507  Compilers are traditionally thought of as havi...    0\n",
       "508  The process of code generation usually involve...    0\n",
       "509  NLP, or Natural Language Processing, is a subf...    1\n",
       "510  There are many applications of NLP across vari...    1\n",
       "511  Netiquette is a term used to describe the prop...    1\n",
       "512  Chuq von Rospach is a well-known author and sp...    1\n",
       "513  Advocates of net neutrality argue that all int...    1\n",
       "514  Newsgroups emerged in the early days of the in...    1\n",
       "515  Netnews, also known as Usenet, is a distribute...    1\n",
       "516  Netnews, or Usenet, is a distributed system fo...    1\n",
       "517  The idea of networks has been around for centu...    1\n",
       "518  The OSI (Open Systems Interconnection) model i...    1\n",
       "519  NAS stands for Network-Attached Storage.  It r...    1"
      ]
     },
     "execution_count": 265,
     "metadata": {},
     "output_type": "execute_result"
    }
   ],
   "source": [
    "data.iloc[500:520]"
   ]
  },
  {
   "cell_type": "markdown",
   "id": "0830b8d5",
   "metadata": {},
   "source": [
    "### Converting article to sentences for analysis"
   ]
  },
  {
   "cell_type": "code",
   "execution_count": 266,
   "id": "0b9bb97c",
   "metadata": {},
   "outputs": [
    {
     "name": "stderr",
     "output_type": "stream",
     "text": [
      "[nltk_data] Downloading package punkt to\n",
      "[nltk_data]     C:\\Users\\kship\\AppData\\Roaming\\nltk_data...\n",
      "[nltk_data]   Package punkt is already up-to-date!\n"
     ]
    },
    {
     "data": {
      "text/html": [
       "<div>\n",
       "<style scoped>\n",
       "    .dataframe tbody tr th:only-of-type {\n",
       "        vertical-align: middle;\n",
       "    }\n",
       "\n",
       "    .dataframe tbody tr th {\n",
       "        vertical-align: top;\n",
       "    }\n",
       "\n",
       "    .dataframe thead th {\n",
       "        text-align: right;\n",
       "    }\n",
       "</style>\n",
       "<table border=\"1\" class=\"dataframe\">\n",
       "  <thead>\n",
       "    <tr style=\"text-align: right;\">\n",
       "      <th></th>\n",
       "      <th>sentence</th>\n",
       "      <th>cls</th>\n",
       "    </tr>\n",
       "  </thead>\n",
       "  <tbody>\n",
       "    <tr>\n",
       "      <th>0</th>\n",
       "      <td>NLP is a multidisciplinary field that draws fr...</td>\n",
       "      <td>0</td>\n",
       "    </tr>\n",
       "    <tr>\n",
       "      <th>1</th>\n",
       "      <td>In terms of linguistics, a program must be abl...</td>\n",
       "      <td>0</td>\n",
       "    </tr>\n",
       "    <tr>\n",
       "      <th>2</th>\n",
       "      <td>Of course each language has its own forms of a...</td>\n",
       "      <td>0</td>\n",
       "    </tr>\n",
       "    <tr>\n",
       "      <th>3</th>\n",
       "      <td>Programs can use several strategies for dealin...</td>\n",
       "      <td>0</td>\n",
       "    </tr>\n",
       "    <tr>\n",
       "      <th>4</th>\n",
       "      <td>As formidable as the task of extracting the co...</td>\n",
       "      <td>0</td>\n",
       "    </tr>\n",
       "    <tr>\n",
       "      <th>...</th>\n",
       "      <td>...</td>\n",
       "      <td>...</td>\n",
       "    </tr>\n",
       "    <tr>\n",
       "      <th>7339</th>\n",
       "      <td>This involves minimizing the number of registe...</td>\n",
       "      <td>1</td>\n",
       "    </tr>\n",
       "    <tr>\n",
       "      <th>7340</th>\n",
       "      <td>Instruction Scheduling: The compiler reorders ...</td>\n",
       "      <td>1</td>\n",
       "    </tr>\n",
       "    <tr>\n",
       "      <th>7341</th>\n",
       "      <td>Code Emission: The compiler generates the fina...</td>\n",
       "      <td>1</td>\n",
       "    </tr>\n",
       "    <tr>\n",
       "      <th>7342</th>\n",
       "      <td>Optimization: The compiler may perform additio...</td>\n",
       "      <td>1</td>\n",
       "    </tr>\n",
       "    <tr>\n",
       "      <th>7343</th>\n",
       "      <td>This may involve removing redundant code, reor...</td>\n",
       "      <td>1</td>\n",
       "    </tr>\n",
       "  </tbody>\n",
       "</table>\n",
       "<p>7344 rows × 2 columns</p>\n",
       "</div>"
      ],
      "text/plain": [
       "                                               sentence  cls\n",
       "0     NLP is a multidisciplinary field that draws fr...    0\n",
       "1     In terms of linguistics, a program must be abl...    0\n",
       "2     Of course each language has its own forms of a...    0\n",
       "3     Programs can use several strategies for dealin...    0\n",
       "4     As formidable as the task of extracting the co...    0\n",
       "...                                                 ...  ...\n",
       "7339  This involves minimizing the number of registe...    1\n",
       "7340  Instruction Scheduling: The compiler reorders ...    1\n",
       "7341  Code Emission: The compiler generates the fina...    1\n",
       "7342  Optimization: The compiler may perform additio...    1\n",
       "7343  This may involve removing redundant code, reor...    1\n",
       "\n",
       "[7344 rows x 2 columns]"
      ]
     },
     "execution_count": 266,
     "metadata": {},
     "output_type": "execute_result"
    }
   ],
   "source": [
    "cols = ['sentence', 'cls']\n",
    "sentdata = []\n",
    "\n",
    "\n",
    "import nltk.data\n",
    "from nltk import tokenize\n",
    "nltk.download('punkt')\n",
    "\n",
    "# Tokenizing the paragraph\n",
    "for j in range(len(data)):\n",
    "    sentense = tokenize.sent_tokenize(data.cleanp[j])\n",
    "    for i in range(len(sentense)):\n",
    "        sentdata.append([sentense[i], data['cls'][j]])\n",
    "    \n",
    "\n",
    "sentdata = pd.DataFrame(sentdata, columns=cols)   \n",
    "    \n",
    "sentdata"
   ]
  },
  {
   "cell_type": "code",
   "execution_count": 267,
   "id": "348ecc76",
   "metadata": {},
   "outputs": [
    {
     "data": {
      "text/plain": [
       "1    4008\n",
       "0    3336\n",
       "Name: cls, dtype: int64"
      ]
     },
     "execution_count": 267,
     "metadata": {},
     "output_type": "execute_result"
    }
   ],
   "source": [
    "sentdata.cls.value_counts()"
   ]
  },
  {
   "cell_type": "code",
   "execution_count": 268,
   "id": "b9ce57f4",
   "metadata": {},
   "outputs": [
    {
     "data": {
      "text/html": [
       "<div>\n",
       "<style scoped>\n",
       "    .dataframe tbody tr th:only-of-type {\n",
       "        vertical-align: middle;\n",
       "    }\n",
       "\n",
       "    .dataframe tbody tr th {\n",
       "        vertical-align: top;\n",
       "    }\n",
       "\n",
       "    .dataframe thead th {\n",
       "        text-align: right;\n",
       "    }\n",
       "</style>\n",
       "<table border=\"1\" class=\"dataframe\">\n",
       "  <thead>\n",
       "    <tr style=\"text-align: right;\">\n",
       "      <th></th>\n",
       "      <th>sentence</th>\n",
       "      <th>cls</th>\n",
       "    </tr>\n",
       "  </thead>\n",
       "  <tbody>\n",
       "    <tr>\n",
       "      <th>3330</th>\n",
       "      <td>It can do this, for example, by tracing the po...</td>\n",
       "      <td>0</td>\n",
       "    </tr>\n",
       "    <tr>\n",
       "      <th>3331</th>\n",
       "      <td>A compiler that is too “aggressive” in making ...</td>\n",
       "      <td>0</td>\n",
       "    </tr>\n",
       "    <tr>\n",
       "      <th>3332</th>\n",
       "      <td>(Many compilers allow the user to control the ...</td>\n",
       "      <td>0</td>\n",
       "    </tr>\n",
       "    <tr>\n",
       "      <th>3333</th>\n",
       "      <td>During development, a compiler is often set to...</td>\n",
       "      <td>0</td>\n",
       "    </tr>\n",
       "    <tr>\n",
       "      <th>3334</th>\n",
       "      <td>This code preserves potentially important info...</td>\n",
       "      <td>0</td>\n",
       "    </tr>\n",
       "    <tr>\n",
       "      <th>3335</th>\n",
       "      <td>After the program is working correctly, it wil...</td>\n",
       "      <td>0</td>\n",
       "    </tr>\n",
       "    <tr>\n",
       "      <th>3336</th>\n",
       "      <td>NLP, or Natural Language Processing, is a subf...</td>\n",
       "      <td>1</td>\n",
       "    </tr>\n",
       "    <tr>\n",
       "      <th>3337</th>\n",
       "      <td>Specifically, NLP aims to develop algorithms a...</td>\n",
       "      <td>1</td>\n",
       "    </tr>\n",
       "    <tr>\n",
       "      <th>3338</th>\n",
       "      <td>The goal of NLP is to enable computers to perf...</td>\n",
       "      <td>1</td>\n",
       "    </tr>\n",
       "    <tr>\n",
       "      <th>3339</th>\n",
       "      <td>NLP involves the use of techniques from lingui...</td>\n",
       "      <td>1</td>\n",
       "    </tr>\n",
       "  </tbody>\n",
       "</table>\n",
       "</div>"
      ],
      "text/plain": [
       "                                               sentence  cls\n",
       "3330  It can do this, for example, by tracing the po...    0\n",
       "3331  A compiler that is too “aggressive” in making ...    0\n",
       "3332  (Many compilers allow the user to control the ...    0\n",
       "3333  During development, a compiler is often set to...    0\n",
       "3334  This code preserves potentially important info...    0\n",
       "3335  After the program is working correctly, it wil...    0\n",
       "3336  NLP, or Natural Language Processing, is a subf...    1\n",
       "3337  Specifically, NLP aims to develop algorithms a...    1\n",
       "3338  The goal of NLP is to enable computers to perf...    1\n",
       "3339  NLP involves the use of techniques from lingui...    1"
      ]
     },
     "execution_count": 268,
     "metadata": {},
     "output_type": "execute_result"
    }
   ],
   "source": [
    "sentdata.iloc[3330:3340]"
   ]
  },
  {
   "cell_type": "markdown",
   "id": "92eea506",
   "metadata": {},
   "source": [
    "### Data Analysis"
   ]
  },
  {
   "cell_type": "code",
   "execution_count": 269,
   "id": "92a00be6",
   "metadata": {
    "scrolled": true
   },
   "outputs": [
    {
     "data": {
      "image/png": "[encoded data removed]",
      "text/plain": [
       "<Figure size 640x480 with 1 Axes>"
      ]
     },
     "metadata": {},
     "output_type": "display_data"
    }
   ],
   "source": [
    "# converting data to sentence level for analysis\n",
    "import matplotlib.pyplot as plt\n",
    "import seaborn as sns\n",
    "\n",
    "sentdata1 = sentdata.copy()\n",
    "sns.countplot(x='cls', data=sentdata1)\n",
    "plt.grid()\n"
   ]
  },
  {
   "cell_type": "code",
   "execution_count": 270,
   "id": "a5866b29",
   "metadata": {},
   "outputs": [
    {
     "data": {
      "text/plain": [
       "7344"
      ]
     },
     "execution_count": 270,
     "metadata": {},
     "output_type": "execute_result"
    }
   ],
   "source": [
    "# total sentence level records \n",
    "len(sentdata1)"
   ]
  },
  {
   "cell_type": "code",
   "execution_count": 271,
   "id": "1c05b922",
   "metadata": {},
   "outputs": [
    {
     "data": {
      "text/html": [
       "<div>\n",
       "<style scoped>\n",
       "    .dataframe tbody tr th:only-of-type {\n",
       "        vertical-align: middle;\n",
       "    }\n",
       "\n",
       "    .dataframe tbody tr th {\n",
       "        vertical-align: top;\n",
       "    }\n",
       "\n",
       "    .dataframe thead th {\n",
       "        text-align: right;\n",
       "    }\n",
       "</style>\n",
       "<table border=\"1\" class=\"dataframe\">\n",
       "  <thead>\n",
       "    <tr style=\"text-align: right;\">\n",
       "      <th></th>\n",
       "      <th>sentence</th>\n",
       "      <th>cls</th>\n",
       "      <th>sentlens</th>\n",
       "    </tr>\n",
       "  </thead>\n",
       "  <tbody>\n",
       "    <tr>\n",
       "      <th>0</th>\n",
       "      <td>NLP is a multidisciplinary field that draws fr...</td>\n",
       "      <td>0</td>\n",
       "      <td>16</td>\n",
       "    </tr>\n",
       "    <tr>\n",
       "      <th>1</th>\n",
       "      <td>In terms of linguistics, a program must be abl...</td>\n",
       "      <td>0</td>\n",
       "      <td>49</td>\n",
       "    </tr>\n",
       "    <tr>\n",
       "      <th>2</th>\n",
       "      <td>Of course each language has its own forms of a...</td>\n",
       "      <td>0</td>\n",
       "      <td>10</td>\n",
       "    </tr>\n",
       "    <tr>\n",
       "      <th>3</th>\n",
       "      <td>Programs can use several strategies for dealin...</td>\n",
       "      <td>0</td>\n",
       "      <td>34</td>\n",
       "    </tr>\n",
       "    <tr>\n",
       "      <th>4</th>\n",
       "      <td>As formidable as the task of extracting the co...</td>\n",
       "      <td>0</td>\n",
       "      <td>26</td>\n",
       "    </tr>\n",
       "    <tr>\n",
       "      <th>...</th>\n",
       "      <td>...</td>\n",
       "      <td>...</td>\n",
       "      <td>...</td>\n",
       "    </tr>\n",
       "    <tr>\n",
       "      <th>7339</th>\n",
       "      <td>This involves minimizing the number of registe...</td>\n",
       "      <td>1</td>\n",
       "      <td>17</td>\n",
       "    </tr>\n",
       "    <tr>\n",
       "      <th>7340</th>\n",
       "      <td>Instruction Scheduling: The compiler reorders ...</td>\n",
       "      <td>1</td>\n",
       "      <td>21</td>\n",
       "    </tr>\n",
       "    <tr>\n",
       "      <th>7341</th>\n",
       "      <td>Code Emission: The compiler generates the fina...</td>\n",
       "      <td>1</td>\n",
       "      <td>17</td>\n",
       "    </tr>\n",
       "    <tr>\n",
       "      <th>7342</th>\n",
       "      <td>Optimization: The compiler may perform additio...</td>\n",
       "      <td>1</td>\n",
       "      <td>19</td>\n",
       "    </tr>\n",
       "    <tr>\n",
       "      <th>7343</th>\n",
       "      <td>This may involve removing redundant code, reor...</td>\n",
       "      <td>1</td>\n",
       "      <td>15</td>\n",
       "    </tr>\n",
       "  </tbody>\n",
       "</table>\n",
       "<p>7344 rows × 3 columns</p>\n",
       "</div>"
      ],
      "text/plain": [
       "                                               sentence  cls  sentlens\n",
       "0     NLP is a multidisciplinary field that draws fr...    0        16\n",
       "1     In terms of linguistics, a program must be abl...    0        49\n",
       "2     Of course each language has its own forms of a...    0        10\n",
       "3     Programs can use several strategies for dealin...    0        34\n",
       "4     As formidable as the task of extracting the co...    0        26\n",
       "...                                                 ...  ...       ...\n",
       "7339  This involves minimizing the number of registe...    1        17\n",
       "7340  Instruction Scheduling: The compiler reorders ...    1        21\n",
       "7341  Code Emission: The compiler generates the fina...    1        17\n",
       "7342  Optimization: The compiler may perform additio...    1        19\n",
       "7343  This may involve removing redundant code, reor...    1        15\n",
       "\n",
       "[7344 rows x 3 columns]"
      ]
     },
     "execution_count": 271,
     "metadata": {},
     "output_type": "execute_result"
    }
   ],
   "source": [
    "# calculate length of each sentence\n",
    "\n",
    "cols = ['sentlens']\n",
    "sentlens = []\n",
    "\n",
    "\n",
    "for j in range(len(sentdata1)):\n",
    "    senlen = len(sentdata1['sentence'][j].split())\n",
    "    sentlens.append(senlen)\n",
    "    \n",
    "\n",
    "sentdata1['sentlens'] = np.array(sentlens)\n",
    "    \n",
    "sentdata1"
   ]
  },
  {
   "cell_type": "code",
   "execution_count": 272,
   "id": "34aaa1d9",
   "metadata": {},
   "outputs": [
    {
     "data": {
      "text/plain": [
       "1"
      ]
     },
     "execution_count": 272,
     "metadata": {},
     "output_type": "execute_result"
    }
   ],
   "source": [
    "# minimum lenght of sentence\n",
    "sentdata1['sentlens'].min()"
   ]
  },
  {
   "cell_type": "code",
   "execution_count": 273,
   "id": "c8a12e97",
   "metadata": {},
   "outputs": [
    {
     "data": {
      "text/plain": [
       "171"
      ]
     },
     "execution_count": 273,
     "metadata": {},
     "output_type": "execute_result"
    }
   ],
   "source": [
    "# maximum lenght of sentence\n",
    "sentdata1['sentlens'].max()"
   ]
  },
  {
   "cell_type": "code",
   "execution_count": 274,
   "id": "0922c659",
   "metadata": {},
   "outputs": [],
   "source": [
    "human=sentdata1.groupby('cls')"
   ]
  },
  {
   "cell_type": "code",
   "execution_count": 275,
   "id": "4179035e",
   "metadata": {},
   "outputs": [
    {
     "data": {
      "text/plain": [
       "cls\n",
       "0    21.421463\n",
       "1    21.789172\n",
       "Name: sentlens, dtype: float64"
      ]
     },
     "execution_count": 275,
     "metadata": {},
     "output_type": "execute_result"
    }
   ],
   "source": [
    "human.sentlens.mean()"
   ]
  },
  {
   "cell_type": "code",
   "execution_count": 276,
   "id": "1f377cf1",
   "metadata": {},
   "outputs": [
    {
     "data": {
      "text/plain": [
       "21.622140522875817"
      ]
     },
     "execution_count": 276,
     "metadata": {},
     "output_type": "execute_result"
    }
   ],
   "source": [
    "sentdata1['sentlens'].mean()"
   ]
  },
  {
   "cell_type": "code",
   "execution_count": 277,
   "id": "b90b31d9",
   "metadata": {},
   "outputs": [
    {
     "data": {
      "image/png": "[encoded data removed]",
      "text/plain": [
       "<Figure size 558.875x500 with 1 Axes>"
      ]
     },
     "metadata": {},
     "output_type": "display_data"
    }
   ],
   "source": [
    "# sentence length probablity distribution\n",
    "sns.displot(sentdata1, x=\"sentlens\", hue=\"cls\", kind=\"kde\", fill=True)\n",
    "plt.xlim(0, 60)\n",
    "plt.grid()"
   ]
  },
  {
   "cell_type": "code",
   "execution_count": 278,
   "id": "be504600",
   "metadata": {},
   "outputs": [
    {
     "data": {
      "image/png": "[encoded data removed]",
      "text/plain": [
       "<Figure size 640x480 with 1 Axes>"
      ]
     },
     "metadata": {},
     "output_type": "display_data"
    }
   ],
   "source": [
    "# paragraph level data analysis\n",
    "\n",
    "import seaborn as sns\n",
    "data1 = data.copy()\n",
    "sns.countplot(x='cls', data=data1)\n",
    "plt.grid()\n",
    "\n"
   ]
  },
  {
   "cell_type": "code",
   "execution_count": 279,
   "id": "8268aade",
   "metadata": {},
   "outputs": [
    {
     "data": {
      "text/plain": [
       "1018"
      ]
     },
     "execution_count": 279,
     "metadata": {},
     "output_type": "execute_result"
    }
   ],
   "source": [
    "# total article level records \n",
    "len(data1)"
   ]
  },
  {
   "cell_type": "code",
   "execution_count": 280,
   "id": "bd3ef511",
   "metadata": {},
   "outputs": [
    {
     "data": {
      "text/html": [
       "<div>\n",
       "<style scoped>\n",
       "    .dataframe tbody tr th:only-of-type {\n",
       "        vertical-align: middle;\n",
       "    }\n",
       "\n",
       "    .dataframe tbody tr th {\n",
       "        vertical-align: top;\n",
       "    }\n",
       "\n",
       "    .dataframe thead th {\n",
       "        text-align: right;\n",
       "    }\n",
       "</style>\n",
       "<table border=\"1\" class=\"dataframe\">\n",
       "  <thead>\n",
       "    <tr style=\"text-align: right;\">\n",
       "      <th></th>\n",
       "      <th>cleanp</th>\n",
       "      <th>cls</th>\n",
       "      <th>paralens</th>\n",
       "    </tr>\n",
       "  </thead>\n",
       "  <tbody>\n",
       "    <tr>\n",
       "      <th>0</th>\n",
       "      <td>NLP is a multidisciplinary field that draws fr...</td>\n",
       "      <td>0</td>\n",
       "      <td>187</td>\n",
       "    </tr>\n",
       "    <tr>\n",
       "      <th>1</th>\n",
       "      <td>There are a variety of emerging applications f...</td>\n",
       "      <td>0</td>\n",
       "      <td>82</td>\n",
       "    </tr>\n",
       "    <tr>\n",
       "      <th>2</th>\n",
       "      <td>As each new means of communication and social ...</td>\n",
       "      <td>0</td>\n",
       "      <td>176</td>\n",
       "    </tr>\n",
       "    <tr>\n",
       "      <th>3</th>\n",
       "      <td>These suggestions include:, Learn about the pu...</td>\n",
       "      <td>0</td>\n",
       "      <td>173</td>\n",
       "    </tr>\n",
       "    <tr>\n",
       "      <th>4</th>\n",
       "      <td>In recent years there has been growing concern...</td>\n",
       "      <td>0</td>\n",
       "      <td>111</td>\n",
       "    </tr>\n",
       "    <tr>\n",
       "      <th>...</th>\n",
       "      <td>...</td>\n",
       "      <td>...</td>\n",
       "      <td>...</td>\n",
       "    </tr>\n",
       "    <tr>\n",
       "      <th>1013</th>\n",
       "      <td>Palettes can refer to different things dependi...</td>\n",
       "      <td>1</td>\n",
       "      <td>132</td>\n",
       "    </tr>\n",
       "    <tr>\n",
       "      <th>1014</th>\n",
       "      <td>Probability is a measure of the likelihood tha...</td>\n",
       "      <td>1</td>\n",
       "      <td>148</td>\n",
       "    </tr>\n",
       "    <tr>\n",
       "      <th>1015</th>\n",
       "      <td>A compiler is a software program that translat...</td>\n",
       "      <td>1</td>\n",
       "      <td>217</td>\n",
       "    </tr>\n",
       "    <tr>\n",
       "      <th>1016</th>\n",
       "      <td>The compilation process is the process by whic...</td>\n",
       "      <td>1</td>\n",
       "      <td>238</td>\n",
       "    </tr>\n",
       "    <tr>\n",
       "      <th>1017</th>\n",
       "      <td>Code generation is the process of converting t...</td>\n",
       "      <td>1</td>\n",
       "      <td>221</td>\n",
       "    </tr>\n",
       "  </tbody>\n",
       "</table>\n",
       "<p>1018 rows × 3 columns</p>\n",
       "</div>"
      ],
      "text/plain": [
       "                                                 cleanp  cls  paralens\n",
       "0     NLP is a multidisciplinary field that draws fr...    0       187\n",
       "1     There are a variety of emerging applications f...    0        82\n",
       "2     As each new means of communication and social ...    0       176\n",
       "3     These suggestions include:, Learn about the pu...    0       173\n",
       "4     In recent years there has been growing concern...    0       111\n",
       "...                                                 ...  ...       ...\n",
       "1013  Palettes can refer to different things dependi...    1       132\n",
       "1014  Probability is a measure of the likelihood tha...    1       148\n",
       "1015  A compiler is a software program that translat...    1       217\n",
       "1016  The compilation process is the process by whic...    1       238\n",
       "1017  Code generation is the process of converting t...    1       221\n",
       "\n",
       "[1018 rows x 3 columns]"
      ]
     },
     "execution_count": 280,
     "metadata": {},
     "output_type": "execute_result"
    }
   ],
   "source": [
    "# calculate length of each paragraph\n",
    "\n",
    "cols = ['paralens']\n",
    "paralens = []\n",
    "\n",
    "\n",
    "for j in range(len(data1)):\n",
    "    paralen = len(data1['cleanp'][j].split())\n",
    "    paralens.append(paralen)\n",
    "    \n",
    "\n",
    "data1['paralens'] = np.array(paralens)\n",
    "    \n",
    "data1"
   ]
  },
  {
   "cell_type": "code",
   "execution_count": 281,
   "id": "dfac6e99",
   "metadata": {},
   "outputs": [
    {
     "data": {
      "image/png": "[encoded data removed]",
      "text/plain": [
       "<Figure size 558.875x500 with 1 Axes>"
      ]
     },
     "metadata": {},
     "output_type": "display_data"
    }
   ],
   "source": [
    "# paragraph length probablity distribution\n",
    "\n",
    "sns.displot(data1, x=\"paralens\", hue=\"cls\", kind=\"kde\", fill=True)\n",
    "plt.xlim(0, 350)\n",
    "plt.grid()"
   ]
  },
  {
   "cell_type": "code",
   "execution_count": 282,
   "id": "119bbeb8",
   "metadata": {},
   "outputs": [
    {
     "data": {
      "text/plain": [
       "26"
      ]
     },
     "execution_count": 282,
     "metadata": {},
     "output_type": "execute_result"
    }
   ],
   "source": [
    "# minimum lenght of sentence\n",
    "data1['paralens'].min()"
   ]
  },
  {
   "cell_type": "code",
   "execution_count": 283,
   "id": "aa351ffc",
   "metadata": {},
   "outputs": [
    {
     "data": {
      "text/plain": [
       "456"
      ]
     },
     "execution_count": 283,
     "metadata": {},
     "output_type": "execute_result"
    }
   ],
   "source": [
    "# maximum lenght of sentence\n",
    "data1['paralens'].max()"
   ]
  },
  {
   "cell_type": "code",
   "execution_count": 284,
   "id": "bedea82d",
   "metadata": {},
   "outputs": [
    {
     "data": {
      "text/plain": [
       "cls\n",
       "0    140.396857\n",
       "1    171.571709\n",
       "Name: paralens, dtype: float64"
      ]
     },
     "execution_count": 284,
     "metadata": {},
     "output_type": "execute_result"
    }
   ],
   "source": [
    "#average length of sentences in each class\n",
    "human=data1.groupby('cls')\n",
    "human.paralens.mean()"
   ]
  },
  {
   "cell_type": "markdown",
   "id": "43e87567",
   "metadata": {},
   "source": [
    "### Data preprocessing for Machine Learning models"
   ]
  },
  {
   "cell_type": "code",
   "execution_count": 285,
   "id": "7a4a2e55",
   "metadata": {},
   "outputs": [],
   "source": [
    "#performing tokenisation using spacy to convert text to numerical form\n",
    "import spacy\n",
    "nlp = spacy.load(\"en_core_web_lg\")\n",
    "data['vector'] = data['cleanp'].apply(lambda text: nlp(text).vector)  "
   ]
  },
  {
   "cell_type": "code",
   "execution_count": 286,
   "id": "1b2f6fb4",
   "metadata": {},
   "outputs": [
    {
     "data": {
      "text/html": [
       "<div>\n",
       "<style scoped>\n",
       "    .dataframe tbody tr th:only-of-type {\n",
       "        vertical-align: middle;\n",
       "    }\n",
       "\n",
       "    .dataframe tbody tr th {\n",
       "        vertical-align: top;\n",
       "    }\n",
       "\n",
       "    .dataframe thead th {\n",
       "        text-align: right;\n",
       "    }\n",
       "</style>\n",
       "<table border=\"1\" class=\"dataframe\">\n",
       "  <thead>\n",
       "    <tr style=\"text-align: right;\">\n",
       "      <th></th>\n",
       "      <th>cleanp</th>\n",
       "      <th>cls</th>\n",
       "      <th>vector</th>\n",
       "    </tr>\n",
       "  </thead>\n",
       "  <tbody>\n",
       "    <tr>\n",
       "      <th>0</th>\n",
       "      <td>NLP is a multidisciplinary field that draws fr...</td>\n",
       "      <td>0</td>\n",
       "      <td>[-1.8836701, 0.47771224, -1.1232015, 0.0521150...</td>\n",
       "    </tr>\n",
       "    <tr>\n",
       "      <th>1</th>\n",
       "      <td>There are a variety of emerging applications f...</td>\n",
       "      <td>0</td>\n",
       "      <td>[-2.311638, -1.6605363, -0.8282042, 1.3762801,...</td>\n",
       "    </tr>\n",
       "    <tr>\n",
       "      <th>2</th>\n",
       "      <td>As each new means of communication and social ...</td>\n",
       "      <td>0</td>\n",
       "      <td>[-1.9235613, 0.30402324, -1.3203417, 0.0981003...</td>\n",
       "    </tr>\n",
       "    <tr>\n",
       "      <th>3</th>\n",
       "      <td>These suggestions include:, Learn about the pu...</td>\n",
       "      <td>0</td>\n",
       "      <td>[-1.4809314, 0.8531074, -1.529263, -0.2555996,...</td>\n",
       "    </tr>\n",
       "    <tr>\n",
       "      <th>4</th>\n",
       "      <td>In recent years there has been growing concern...</td>\n",
       "      <td>0</td>\n",
       "      <td>[-2.6167812, -0.50970966, -2.0028265, 0.704959...</td>\n",
       "    </tr>\n",
       "    <tr>\n",
       "      <th>...</th>\n",
       "      <td>...</td>\n",
       "      <td>...</td>\n",
       "      <td>...</td>\n",
       "    </tr>\n",
       "    <tr>\n",
       "      <th>1013</th>\n",
       "      <td>Palettes can refer to different things dependi...</td>\n",
       "      <td>1</td>\n",
       "      <td>[-3.1741989, 1.0468854, -2.7742012, 0.18923098...</td>\n",
       "    </tr>\n",
       "    <tr>\n",
       "      <th>1014</th>\n",
       "      <td>Probability is a measure of the likelihood tha...</td>\n",
       "      <td>1</td>\n",
       "      <td>[-2.1461232, -0.39627567, -1.3561733, 0.780661...</td>\n",
       "    </tr>\n",
       "    <tr>\n",
       "      <th>1015</th>\n",
       "      <td>A compiler is a software program that translat...</td>\n",
       "      <td>1</td>\n",
       "      <td>[-1.6014613, 0.14110367, -0.48585984, 0.389496...</td>\n",
       "    </tr>\n",
       "    <tr>\n",
       "      <th>1016</th>\n",
       "      <td>The compilation process is the process by whic...</td>\n",
       "      <td>1</td>\n",
       "      <td>[-2.0775006, -0.20958309, 0.59049886, 0.627492...</td>\n",
       "    </tr>\n",
       "    <tr>\n",
       "      <th>1017</th>\n",
       "      <td>Code generation is the process of converting t...</td>\n",
       "      <td>1</td>\n",
       "      <td>[-1.6681834, -0.11671716, 0.44620022, 1.079192...</td>\n",
       "    </tr>\n",
       "  </tbody>\n",
       "</table>\n",
       "<p>1018 rows × 3 columns</p>\n",
       "</div>"
      ],
      "text/plain": [
       "                                                 cleanp  cls  \\\n",
       "0     NLP is a multidisciplinary field that draws fr...    0   \n",
       "1     There are a variety of emerging applications f...    0   \n",
       "2     As each new means of communication and social ...    0   \n",
       "3     These suggestions include:, Learn about the pu...    0   \n",
       "4     In recent years there has been growing concern...    0   \n",
       "...                                                 ...  ...   \n",
       "1013  Palettes can refer to different things dependi...    1   \n",
       "1014  Probability is a measure of the likelihood tha...    1   \n",
       "1015  A compiler is a software program that translat...    1   \n",
       "1016  The compilation process is the process by whic...    1   \n",
       "1017  Code generation is the process of converting t...    1   \n",
       "\n",
       "                                                 vector  \n",
       "0     [-1.8836701, 0.47771224, -1.1232015, 0.0521150...  \n",
       "1     [-2.311638, -1.6605363, -0.8282042, 1.3762801,...  \n",
       "2     [-1.9235613, 0.30402324, -1.3203417, 0.0981003...  \n",
       "3     [-1.4809314, 0.8531074, -1.529263, -0.2555996,...  \n",
       "4     [-2.6167812, -0.50970966, -2.0028265, 0.704959...  \n",
       "...                                                 ...  \n",
       "1013  [-3.1741989, 1.0468854, -2.7742012, 0.18923098...  \n",
       "1014  [-2.1461232, -0.39627567, -1.3561733, 0.780661...  \n",
       "1015  [-1.6014613, 0.14110367, -0.48585984, 0.389496...  \n",
       "1016  [-2.0775006, -0.20958309, 0.59049886, 0.627492...  \n",
       "1017  [-1.6681834, -0.11671716, 0.44620022, 1.079192...  \n",
       "\n",
       "[1018 rows x 3 columns]"
      ]
     },
     "execution_count": 286,
     "metadata": {},
     "output_type": "execute_result"
    }
   ],
   "source": [
    "data"
   ]
  },
  {
   "cell_type": "markdown",
   "id": "665e17b3",
   "metadata": {},
   "source": [
    "### Train-test-validation split and normalization"
   ]
  },
  {
   "cell_type": "code",
   "execution_count": 287,
   "id": "4f224ed6",
   "metadata": {},
   "outputs": [],
   "source": [
    "# Train-test-validation split \n",
    "\n",
    "from sklearn.model_selection import train_test_split\n",
    "\n",
    "XP_train, XP_test, yp_train, yp_test = train_test_split(\n",
    "    data.vector.values,\n",
    "    data.cls,\n",
    "    test_size=0.2,\n",
    "    random_state=2022\n",
    "    \n",
    ")\n",
    "\n",
    "XP_train_2d = np.stack(XP_train)\n",
    "XP_test_2d = np.stack(XP_test)\n",
    "\n",
    "# Normalization\n",
    "\n",
    "from sklearn.naive_bayes import MultinomialNB\n",
    "from sklearn.preprocessing import MinMaxScaler\n",
    "\n",
    "\n",
    "p_scaler = MinMaxScaler()\n",
    "scaled_train_embed_p = p_scaler.fit_transform(XP_train_2d)\n",
    "scaled_test_embed_p = p_scaler.transform(XP_test_2d)\n"
   ]
  },
  {
   "cell_type": "code",
   "execution_count": 288,
   "id": "87df4145",
   "metadata": {},
   "outputs": [],
   "source": [
    "\n",
    "#importing the previosuly split train test sets to ensure same split across all models \n",
    "import pickle\n",
    "with open('train_test_splits.pkl', 'rb') as f:\n",
    "    X_train, X_test, Y_train, Y_test = pickle.load(f)"
   ]
  },
  {
   "cell_type": "code",
   "execution_count": 289,
   "id": "01d1eb37",
   "metadata": {},
   "outputs": [],
   "source": [
    "X_train = X_train.apply(lambda text: nlp(text).vector)  "
   ]
  },
  {
   "cell_type": "code",
   "execution_count": 291,
   "id": "b04671a8",
   "metadata": {},
   "outputs": [],
   "source": [
    "X_test = X_test.apply(lambda text: nlp(text).vector)  "
   ]
  },
  {
   "cell_type": "code",
   "execution_count": 292,
   "id": "51600495",
   "metadata": {
    "scrolled": false
   },
   "outputs": [],
   "source": [
    "Y_train=Y_train.flatten().tolist()"
   ]
  },
  {
   "cell_type": "code",
   "execution_count": 294,
   "id": "55c3f87d",
   "metadata": {},
   "outputs": [
    {
     "data": {
      "text/plain": [
       "[1,\n",
       " 0,\n",
       " 0,\n",
       " 0,\n",
       " 1,\n",
       " 0,\n",
       " 0,\n",
       " 1,\n",
       " 0,\n",
       " 1,\n",
       " 1,\n",
       " 1,\n",
       " 0,\n",
       " 0,\n",
       " 0,\n",
       " 1,\n",
       " 0,\n",
       " 1,\n",
       " 0,\n",
       " 1,\n",
       " 0,\n",
       " 0,\n",
       " 1,\n",
       " 1,\n",
       " 1,\n",
       " 0,\n",
       " 1,\n",
       " 1,\n",
       " 1,\n",
       " 1,\n",
       " 0,\n",
       " 0,\n",
       " 0,\n",
       " 0,\n",
       " 0,\n",
       " 0,\n",
       " 1,\n",
       " 0,\n",
       " 1,\n",
       " 0,\n",
       " 1,\n",
       " 0,\n",
       " 0,\n",
       " 1,\n",
       " 0,\n",
       " 0,\n",
       " 0,\n",
       " 1,\n",
       " 0,\n",
       " 0,\n",
       " 0,\n",
       " 1,\n",
       " 1,\n",
       " 0,\n",
       " 1,\n",
       " 1,\n",
       " 0,\n",
       " 1,\n",
       " 0,\n",
       " 1,\n",
       " 1,\n",
       " 0,\n",
       " 1,\n",
       " 1,\n",
       " 0,\n",
       " 1,\n",
       " 0,\n",
       " 0,\n",
       " 0,\n",
       " 1,\n",
       " 0,\n",
       " 0,\n",
       " 1,\n",
       " 0,\n",
       " 1,\n",
       " 1,\n",
       " 0,\n",
       " 1,\n",
       " 1,\n",
       " 1,\n",
       " 0,\n",
       " 1,\n",
       " 0,\n",
       " 0,\n",
       " 1,\n",
       " 1,\n",
       " 1,\n",
       " 1,\n",
       " 1,\n",
       " 1,\n",
       " 1,\n",
       " 0,\n",
       " 0,\n",
       " 1,\n",
       " 0,\n",
       " 1,\n",
       " 0,\n",
       " 1,\n",
       " 1,\n",
       " 0,\n",
       " 1,\n",
       " 0,\n",
       " 0,\n",
       " 0,\n",
       " 0,\n",
       " 0,\n",
       " 0,\n",
       " 0,\n",
       " 1,\n",
       " 0,\n",
       " 1,\n",
       " 1,\n",
       " 1,\n",
       " 1,\n",
       " 0,\n",
       " 0,\n",
       " 1,\n",
       " 0,\n",
       " 1,\n",
       " 1,\n",
       " 0,\n",
       " 1,\n",
       " 0,\n",
       " 1,\n",
       " 0,\n",
       " 1,\n",
       " 1,\n",
       " 0,\n",
       " 0,\n",
       " 0,\n",
       " 1,\n",
       " 1,\n",
       " 1,\n",
       " 1,\n",
       " 0,\n",
       " 0,\n",
       " 0,\n",
       " 0,\n",
       " 1,\n",
       " 0,\n",
       " 0,\n",
       " 1,\n",
       " 0,\n",
       " 0,\n",
       " 1,\n",
       " 0,\n",
       " 1,\n",
       " 0,\n",
       " 0,\n",
       " 1,\n",
       " 0,\n",
       " 1,\n",
       " 1]"
      ]
     },
     "execution_count": 294,
     "metadata": {},
     "output_type": "execute_result"
    }
   ],
   "source": [
    "Y_test=Y_test.flatten().tolist()"
   ]
  },
  {
   "cell_type": "code",
   "execution_count": 296,
   "id": "f41676c5",
   "metadata": {},
   "outputs": [],
   "source": [
    "XP_train_2d = np.stack(X_train)\n",
    "XP_test_2d = np.stack(X_test)\n",
    "\n",
    "# Normalization\n",
    "\n",
    "from sklearn.naive_bayes import MultinomialNB\n",
    "from sklearn.preprocessing import MinMaxScaler\n",
    "\n",
    "\n",
    "p_scaler = MinMaxScaler()\n",
    "scaled_train_embed_p = p_scaler.fit_transform(XP_train_2d)\n",
    "scaled_test_embed_p = p_scaler.transform(XP_test_2d)\n"
   ]
  },
  {
   "cell_type": "code",
   "execution_count": 297,
   "id": "3606cac4",
   "metadata": {},
   "outputs": [
    {
     "data": {
      "text/plain": [
       "array([[0.69334424, 0.5625512 , 0.5562984 , ..., 0.8416134 , 0.48528567,\n",
       "        0.21599069],\n",
       "       [0.6908155 , 0.52220654, 0.35407323, ..., 0.20992082, 0.43195516,\n",
       "        0.85088086],\n",
       "       [0.28910768, 0.38706094, 0.53923357, ..., 0.35922927, 0.35659295,\n",
       "        0.43302655],\n",
       "       ...,\n",
       "       [0.4949875 , 0.04242775, 0.7265636 , ..., 0.3499905 , 0.72246605,\n",
       "        0.29338366],\n",
       "       [0.65114754, 0.45100904, 0.48605788, ..., 0.6778714 , 0.6205137 ,\n",
       "        0.19840808],\n",
       "       [0.10737169, 0.36456007, 0.27579293, ..., 0.19262052, 0.4198361 ,\n",
       "        0.53162646]], dtype=float32)"
      ]
     },
     "execution_count": 297,
     "metadata": {},
     "output_type": "execute_result"
    }
   ],
   "source": [
    "scaled_train_embed_p"
   ]
  },
  {
   "cell_type": "markdown",
   "id": "93e5eacc",
   "metadata": {},
   "source": [
    "### multinomial Naive Bayes classifier - paragraph level"
   ]
  },
  {
   "cell_type": "code",
   "execution_count": 341,
   "id": "5ed4df82",
   "metadata": {},
   "outputs": [
    {
     "name": "stdout",
     "output_type": "stream",
     "text": [
      "              precision    recall  f1-score   support\n",
      "\n",
      "           0       0.80      0.84      0.82        79\n",
      "           1       0.82      0.78      0.80        74\n",
      "\n",
      "    accuracy                           0.81       153\n",
      "   macro avg       0.81      0.81      0.81       153\n",
      "weighted avg       0.81      0.81      0.81       153\n",
      "\n"
     ]
    },
    {
     "name": "stderr",
     "output_type": "stream",
     "text": [
      "C:\\Users\\kship\\anaconda3\\lib\\site-packages\\sklearn\\utils\\validation.py:993: DataConversionWarning: A column-vector y was passed when a 1d array was expected. Please change the shape of y to (n_samples, ), for example using ravel().\n",
      "  y = column_or_1d(y, warn=True)\n"
     ]
    }
   ],
   "source": [
    "from sklearn.naive_bayes import MultinomialNB\n",
    "from sklearn.metrics import classification_report\n",
    "nb_clf = MultinomialNB()\n",
    "nb_clf.fit(scaled_train_embed_p, Y_train)\n",
    "yp_pred_nb = nb_clf.predict(scaled_test_embed_p)\n",
    "\n",
    "print(classification_report(Y_test, yp_pred_nb))"
   ]
  },
  {
   "cell_type": "code",
   "execution_count": 342,
   "id": "5557a607",
   "metadata": {},
   "outputs": [
    {
     "name": "stdout",
     "output_type": "stream",
     "text": [
      "Multinomial Naive Bayes\n",
      "Accuracy: 0.8104575163398693\n",
      "Precision: 0.8169014084507042\n",
      "Recall: 0.7837837837837838\n"
     ]
    }
   ],
   "source": [
    "from sklearn import metrics\n",
    "print('Multinomial Naive Bayes')\n",
    "print('Accuracy: {}'.format(metrics.accuracy_score(Y_test,yp_pred_nb)))\n",
    "print('Precision: {}'.format(metrics.precision_score(Y_test,yp_pred_nb)))\n",
    "print('Recall: {}'.format(metrics.recall_score(Y_test,yp_pred_nb)))"
   ]
  },
  {
   "cell_type": "code",
   "execution_count": 392,
   "id": "f0e6274f",
   "metadata": {},
   "outputs": [],
   "source": [
    "#function to calculate confusion matirx percentage\n",
    "def percentage_confusion_matrix(cm):\n",
    "    total = np.sum(cm)\n",
    "    return (cm / total) * 100\n"
   ]
  },
  {
   "cell_type": "code",
   "execution_count": 399,
   "id": "7ee53654",
   "metadata": {},
   "outputs": [
    {
     "data": {
      "text/plain": [
       "Text(95.72222222222221, 0.5, 'Truth')"
      ]
     },
     "execution_count": 399,
     "metadata": {},
     "output_type": "execute_result"
    },
    {
     "data": {
      "image/png": "[encoded data removed]",
      "text/plain": [
       "<Figure size 1000x700 with 2 Axes>"
      ]
     },
     "metadata": {},
     "output_type": "display_data"
    }
   ],
   "source": [
    "from sklearn.metrics import confusion_matrix\n",
    "cm = confusion_matrix(Y_test, yp_pred_nb)\n",
    "cm_p=percentage_confusion_matrix(cm)\n",
    "from matplotlib import pyplot as plt\n",
    "import seaborn as sn\n",
    "plt.figure(figsize = (10,7))\n",
    "sn.heatmap(cm_p, annot=True)\n",
    "plt.xlabel('Prediction')\n",
    "plt.ylabel('Truth')"
   ]
  },
  {
   "cell_type": "code",
   "execution_count": 344,
   "id": "4783ea20",
   "metadata": {},
   "outputs": [],
   "source": [
    "from sklearn.metrics import roc_curve\n",
    "from matplotlib import pyplot\n",
    "\n",
    "# predict probabilities\n",
    "yhat = nb_clf.predict_proba(scaled_test_embed_p)\n",
    "# retrieve just the probabilities for the positive class\n",
    "pos_probs_nb = yhat[:, 1]\n",
    "\n",
    "\n",
    "\n",
    "# calculate roc curve for model\n",
    "fpr, tpr, _ = roc_curve(Y_test, pos_probs_nb)\n",
    "\n",
    "tpr_list=[]\n",
    "fpr_list=[]\n",
    "tpr_list.append(tpr)\n",
    "fpr_list.append(fpr)"
   ]
  },
  {
   "cell_type": "markdown",
   "id": "5682a7da",
   "metadata": {},
   "source": [
    "### SVM classifier - paragraph level"
   ]
  },
  {
   "cell_type": "code",
   "execution_count": 345,
   "id": "00d2c9bf",
   "metadata": {},
   "outputs": [
    {
     "name": "stdout",
     "output_type": "stream",
     "text": [
      "              precision    recall  f1-score   support\n",
      "\n",
      "           0       0.94      0.92      0.93        79\n",
      "           1       0.92      0.93      0.93        74\n",
      "\n",
      "    accuracy                           0.93       153\n",
      "   macro avg       0.93      0.93      0.93       153\n",
      "weighted avg       0.93      0.93      0.93       153\n",
      "\n"
     ]
    },
    {
     "name": "stderr",
     "output_type": "stream",
     "text": [
      "C:\\Users\\kship\\anaconda3\\lib\\site-packages\\sklearn\\utils\\validation.py:993: DataConversionWarning: A column-vector y was passed when a 1d array was expected. Please change the shape of y to (n_samples, ), for example using ravel().\n",
      "  y = column_or_1d(y, warn=True)\n"
     ]
    }
   ],
   "source": [
    "from  sklearn import svm\n",
    "\n",
    "#1. creating a KNN model object\n",
    "svm_clf = svm.SVC(kernel='poly', degree=6, probability=True)\n",
    "\n",
    "#2. fit with all_train_embeddings and y_train\n",
    "svm_clf.fit(scaled_train_embed_p, Y_train)\n",
    "\n",
    "#3. get the predictions for all_test_embeddings and store it in y_pred\n",
    "yp_pred_svm = svm_clf.predict(scaled_test_embed_p)\n",
    "\n",
    "#4. print the classfication report\n",
    "print(classification_report(Y_test, yp_pred_svm))"
   ]
  },
  {
   "cell_type": "code",
   "execution_count": 346,
   "id": "c11f7f72",
   "metadata": {},
   "outputs": [
    {
     "name": "stdout",
     "output_type": "stream",
     "text": [
      "Support Vector Machine\n",
      "Accuracy: 0.9281045751633987\n",
      "Precision: 0.92\n",
      "Recall: 0.9324324324324325\n"
     ]
    }
   ],
   "source": [
    "print('Support Vector Machine')\n",
    "print('Accuracy: {}'.format(metrics.accuracy_score(Y_test,yp_pred_svm)))\n",
    "print('Precision: {}'.format(metrics.precision_score(Y_test,yp_pred_svm)))\n",
    "print('Recall: {}'.format(metrics.recall_score(Y_test,yp_pred_svm)))"
   ]
  },
  {
   "cell_type": "code",
   "execution_count": 348,
   "id": "ee967e6c",
   "metadata": {},
   "outputs": [
    {
     "data": {
      "text/plain": [
       "Text(0.5, 1.0, 'Percentage Confusion Matrix of SVM')"
      ]
     },
     "execution_count": 348,
     "metadata": {},
     "output_type": "execute_result"
    },
    {
     "data": {
      "image/png": "[encoded data removed]",
      "text/plain": [
       "<Figure size 1000x700 with 2 Axes>"
      ]
     },
     "metadata": {},
     "output_type": "display_data"
    }
   ],
   "source": [
    "cm = confusion_matrix(Y_test, yp_pred_svm)\n",
    "cm_p=percentage_confusion_matrix(cm)\n",
    "\n",
    "from matplotlib import pyplot as plt\n",
    "import seaborn as sn\n",
    "plt.figure(figsize = (10,7))\n",
    "sn.heatmap(cm_p, annot=True, )\n",
    "plt.xlabel('Prediction')\n",
    "plt.ylabel('Truth')\n",
    "plt.title('Percentage Confusion Matrix of SVM')"
   ]
  },
  {
   "cell_type": "code",
   "execution_count": 349,
   "id": "02a1fc77",
   "metadata": {},
   "outputs": [],
   "source": [
    "# predict probabilities\n",
    "yhat = svm_clf.predict_proba(scaled_test_embed_p)\n",
    "# retrieve just the probabilities for the positive class\n",
    "pos_probs_svm = yhat[:, 1]\n",
    "\n",
    "\n",
    "\n",
    "# calculate roc curve for model\n",
    "fpr, tpr, _ = roc_curve(Y_test, pos_probs_svm)\n",
    "tpr_list.append(tpr)\n",
    "fpr_list.append(fpr)"
   ]
  },
  {
   "cell_type": "markdown",
   "id": "cb67d1f6",
   "metadata": {},
   "source": [
    "### Random Forest classifier - paragraph level"
   ]
  },
  {
   "cell_type": "code",
   "execution_count": 350,
   "id": "be3c59b2",
   "metadata": {},
   "outputs": [
    {
     "name": "stdout",
     "output_type": "stream",
     "text": [
      "              precision    recall  f1-score   support\n",
      "\n",
      "           0       0.84      0.80      0.82        79\n",
      "           1       0.79      0.84      0.82        74\n",
      "\n",
      "    accuracy                           0.82       153\n",
      "   macro avg       0.82      0.82      0.82       153\n",
      "weighted avg       0.82      0.82      0.82       153\n",
      "\n"
     ]
    },
    {
     "name": "stderr",
     "output_type": "stream",
     "text": [
      "C:\\Users\\kship\\AppData\\Local\\Temp\\ipykernel_40320\\2810644039.py:5: DataConversionWarning: A column-vector y was passed when a 1d array was expected. Please change the shape of y to (n_samples,), for example using ravel().\n",
      "  rf_clf.fit(scaled_train_embed_p, Y_train)\n"
     ]
    }
   ],
   "source": [
    "from sklearn.ensemble import RandomForestClassifier\n",
    "\n",
    "\n",
    "rf_clf = RandomForestClassifier(10,max_depth=10, random_state=0)\n",
    "rf_clf.fit(scaled_train_embed_p, Y_train)\n",
    "\n",
    "yp_pred_rf = rf_clf.predict(scaled_test_embed_p)\n",
    "\n",
    "\n",
    "#print the classfication report\n",
    "print(classification_report(Y_test, yp_pred_rf))"
   ]
  },
  {
   "cell_type": "code",
   "execution_count": 351,
   "id": "bb278783",
   "metadata": {},
   "outputs": [
    {
     "name": "stdout",
     "output_type": "stream",
     "text": [
      "Random Forest\n",
      "Accuracy: 0.8169934640522876\n",
      "Precision: 0.7948717948717948\n",
      "Recall: 0.8378378378378378\n"
     ]
    }
   ],
   "source": [
    "print('Random Forest')\n",
    "print('Accuracy: {}'.format(metrics.accuracy_score(Y_test,yp_pred_rf)))\n",
    "print('Precision: {}'.format(metrics.precision_score(Y_test,yp_pred_rf)))\n",
    "print('Recall: {}'.format(metrics.recall_score(Y_test,yp_pred_rf)))"
   ]
  },
  {
   "cell_type": "code",
   "execution_count": 352,
   "id": "2810ad56",
   "metadata": {},
   "outputs": [
    {
     "data": {
      "text/plain": [
       "Text(0.5, 1.0, 'Percentage Confusion Matrix of Random Forest')"
      ]
     },
     "execution_count": 352,
     "metadata": {},
     "output_type": "execute_result"
    },
    {
     "data": {
      "image/png": "[encoded data removed]",
      "text/plain": [
       "<Figure size 1000x700 with 2 Axes>"
      ]
     },
     "metadata": {},
     "output_type": "display_data"
    }
   ],
   "source": [
    "cm = confusion_matrix(Y_test, yp_pred_rf)\n",
    "cm_p=percentage_confusion_matrix(cm)\n",
    "\n",
    "from matplotlib import pyplot as plt\n",
    "import seaborn as sn\n",
    "plt.figure(figsize = (10,7))\n",
    "sn.heatmap(cm_p, annot=True)\n",
    "plt.xlabel('Prediction')\n",
    "plt.ylabel('Truth')\n",
    "plt.title('Percentage Confusion Matrix of Random Forest')"
   ]
  },
  {
   "cell_type": "code",
   "execution_count": 353,
   "id": "7f031557",
   "metadata": {},
   "outputs": [],
   "source": [
    "# predict probabilities\n",
    "yhat = rf_clf.predict_proba(scaled_test_embed_p)\n",
    "# retrieve just the probabilities for the positive class\n",
    "pos_probs_rf = yhat[:, 1]\n",
    "\n",
    "\n",
    "\n",
    "# calculate roc curve for model\n",
    "fpr, tpr, _ = roc_curve(Y_test, pos_probs_rf)\n",
    "tpr_list.append(tpr)\n",
    "fpr_list.append(fpr)"
   ]
  },
  {
   "cell_type": "markdown",
   "id": "740c095e",
   "metadata": {},
   "source": [
    "### KNN classifier - paragraph level"
   ]
  },
  {
   "cell_type": "code",
   "execution_count": 354,
   "id": "3fa8fec9",
   "metadata": {},
   "outputs": [
    {
     "name": "stdout",
     "output_type": "stream",
     "text": [
      "              precision    recall  f1-score   support\n",
      "\n",
      "           0       0.85      0.80      0.82        79\n",
      "           1       0.80      0.85      0.82        74\n",
      "\n",
      "    accuracy                           0.82       153\n",
      "   macro avg       0.82      0.82      0.82       153\n",
      "weighted avg       0.83      0.82      0.82       153\n",
      "\n"
     ]
    },
    {
     "name": "stderr",
     "output_type": "stream",
     "text": [
      "C:\\Users\\kship\\anaconda3\\lib\\site-packages\\sklearn\\neighbors\\_classification.py:198: DataConversionWarning: A column-vector y was passed when a 1d array was expected. Please change the shape of y to (n_samples,), for example using ravel().\n",
      "  return self._fit(X, y)\n",
      "C:\\Users\\kship\\anaconda3\\lib\\site-packages\\sklearn\\neighbors\\_classification.py:228: FutureWarning: Unlike other reduction functions (e.g. `skew`, `kurtosis`), the default behavior of `mode` typically preserves the axis it acts along. In SciPy 1.11.0, this behavior will change: the default value of `keepdims` will become False, the `axis` over which the statistic is taken will be eliminated, and the value None will no longer be accepted. Set `keepdims` to True or False to avoid this warning.\n",
      "  mode, _ = stats.mode(_y[neigh_ind, k], axis=1)\n"
     ]
    }
   ],
   "source": [
    "from  sklearn.neighbors import KNeighborsClassifier\n",
    "\n",
    "#1. creating a KNN model object\n",
    "knn_clf = KNeighborsClassifier(n_neighbors = 5, metric = 'euclidean')\n",
    "\n",
    "#2. fit with all_train_embeddings and y_train\n",
    "knn_clf.fit(scaled_train_embed_p, Y_train)\n",
    "\n",
    "#3. get the predictions for all_test_embeddings and store it in y_pred\n",
    "yp_pred_knn = knn_clf.predict(scaled_test_embed_p)\n",
    "\n",
    "#4. print the classfication report\n",
    "print(classification_report(Y_test, yp_pred_knn))"
   ]
  },
  {
   "cell_type": "code",
   "execution_count": 355,
   "id": "23525f41",
   "metadata": {},
   "outputs": [
    {
     "name": "stdout",
     "output_type": "stream",
     "text": [
      "K Nearest Neighbor\n",
      "Accuracy: 0.8235294117647058\n",
      "Precision: 0.7974683544303798\n",
      "Recall: 0.8513513513513513\n"
     ]
    }
   ],
   "source": [
    "print('K Nearest Neighbor')\n",
    "print('Accuracy: {}'.format(metrics.accuracy_score(Y_test,yp_pred_knn)))\n",
    "print('Precision: {}'.format(metrics.precision_score(Y_test,yp_pred_knn)))\n",
    "print('Recall: {}'.format(metrics.recall_score(Y_test,yp_pred_knn)))"
   ]
  },
  {
   "cell_type": "code",
   "execution_count": 356,
   "id": "53601c41",
   "metadata": {},
   "outputs": [
    {
     "data": {
      "text/plain": [
       "Text(95.72222222222221, 0.5, 'Truth')"
      ]
     },
     "execution_count": 356,
     "metadata": {},
     "output_type": "execute_result"
    },
    {
     "data": {
      "image/png": "[encoded data removed]",
      "text/plain": [
       "<Figure size 1000x700 with 2 Axes>"
      ]
     },
     "metadata": {},
     "output_type": "display_data"
    }
   ],
   "source": [
    "cm = confusion_matrix(Y_test, yp_pred_knn)\n",
    "cm_p=percentage_confusion_matrix(cm)\n",
    "\n",
    "from matplotlib import pyplot as plt\n",
    "import seaborn as sn\n",
    "plt.figure(figsize = (10,7))\n",
    "sn.heatmap(cm_p, annot=True)\n",
    "plt.xlabel('Prediction')\n",
    "plt.ylabel('Truth')"
   ]
  },
  {
   "cell_type": "code",
   "execution_count": 357,
   "id": "6e915dc3",
   "metadata": {},
   "outputs": [],
   "source": [
    "\n",
    "# predict probabilities\n",
    "yhat = knn_clf.predict_proba(scaled_test_embed_p)\n",
    "# retrieve just the probabilities for the positive class\n",
    "pos_probs_knn = yhat[:, 1]\n",
    "\n",
    "\n",
    "\n",
    "# calculate roc curve for model\n",
    "fpr, tpr, _ = roc_curve(Y_test, pos_probs_knn)\n",
    "tpr_list.append(tpr)\n",
    "fpr_list.append(fpr)"
   ]
  },
  {
   "cell_type": "code",
   "execution_count": 358,
   "id": "441f12c2",
   "metadata": {},
   "outputs": [
    {
     "data": {
      "image/png": "[encoded data removed]",
      "text/plain": [
       "<Figure size 960x720 with 1 Axes>"
      ]
     },
     "metadata": {},
     "output_type": "display_data"
    }
   ],
   "source": [
    "import matplotlib.pyplot as pyplot\n",
    "algo=['Multinomial Naive Bayes','SVM','Random Forest','KNN']\n",
    "pyplot.figure(figsize=(8,6), dpi=120)\n",
    "for i in range(len(tpr_list)):\n",
    "    plt.plot(fpr_list[i], tpr_list[i], label=algo[i])\n",
    "plt.title('ROC Curve')    \n",
    "plt.xlabel('False Positive Rate')\n",
    "plt.ylabel('True Positive Rate')\n",
    "plt.legend(loc='best')\n",
    "plt.show()"
   ]
  },
  {
   "cell_type": "markdown",
   "id": "9947ec46",
   "metadata": {},
   "source": [
    "## DEEP LEARNING - LSTM model"
   ]
  },
  {
   "cell_type": "code",
   "execution_count": 75,
   "id": "b647477e",
   "metadata": {},
   "outputs": [
    {
     "data": {
      "text/html": [
       "<div>\n",
       "<style scoped>\n",
       "    .dataframe tbody tr th:only-of-type {\n",
       "        vertical-align: middle;\n",
       "    }\n",
       "\n",
       "    .dataframe tbody tr th {\n",
       "        vertical-align: top;\n",
       "    }\n",
       "\n",
       "    .dataframe thead th {\n",
       "        text-align: right;\n",
       "    }\n",
       "</style>\n",
       "<table border=\"1\" class=\"dataframe\">\n",
       "  <thead>\n",
       "    <tr style=\"text-align: right;\">\n",
       "      <th></th>\n",
       "      <th>cleanp</th>\n",
       "      <th>cls</th>\n",
       "      <th>vector</th>\n",
       "    </tr>\n",
       "  </thead>\n",
       "  <tbody>\n",
       "    <tr>\n",
       "      <th>0</th>\n",
       "      <td>NLP is a multidisciplinary field that draws fr...</td>\n",
       "      <td>0</td>\n",
       "      <td>[-1.8836701, 0.47771224, -1.1232015, 0.0521150...</td>\n",
       "    </tr>\n",
       "    <tr>\n",
       "      <th>1</th>\n",
       "      <td>There are a variety of emerging applications f...</td>\n",
       "      <td>0</td>\n",
       "      <td>[-2.311638, -1.6605363, -0.8282042, 1.3762801,...</td>\n",
       "    </tr>\n",
       "    <tr>\n",
       "      <th>2</th>\n",
       "      <td>As each new means of communication and social ...</td>\n",
       "      <td>0</td>\n",
       "      <td>[-1.9235613, 0.30402324, -1.3203417, 0.0981003...</td>\n",
       "    </tr>\n",
       "    <tr>\n",
       "      <th>3</th>\n",
       "      <td>These suggestions include:, Learn about the pu...</td>\n",
       "      <td>0</td>\n",
       "      <td>[-1.4809314, 0.8531074, -1.529263, -0.2555996,...</td>\n",
       "    </tr>\n",
       "    <tr>\n",
       "      <th>4</th>\n",
       "      <td>In recent years there has been growing concern...</td>\n",
       "      <td>0</td>\n",
       "      <td>[-2.6167812, -0.50970966, -2.0028265, 0.704959...</td>\n",
       "    </tr>\n",
       "    <tr>\n",
       "      <th>...</th>\n",
       "      <td>...</td>\n",
       "      <td>...</td>\n",
       "      <td>...</td>\n",
       "    </tr>\n",
       "    <tr>\n",
       "      <th>1013</th>\n",
       "      <td>Palettes can refer to different things dependi...</td>\n",
       "      <td>1</td>\n",
       "      <td>[-3.1741989, 1.0468854, -2.7742012, 0.18923098...</td>\n",
       "    </tr>\n",
       "    <tr>\n",
       "      <th>1014</th>\n",
       "      <td>Probability is a measure of the likelihood tha...</td>\n",
       "      <td>1</td>\n",
       "      <td>[-2.1461232, -0.39627567, -1.3561733, 0.780661...</td>\n",
       "    </tr>\n",
       "    <tr>\n",
       "      <th>1015</th>\n",
       "      <td>A compiler is a software program that translat...</td>\n",
       "      <td>1</td>\n",
       "      <td>[-1.6014613, 0.14110367, -0.48585984, 0.389496...</td>\n",
       "    </tr>\n",
       "    <tr>\n",
       "      <th>1016</th>\n",
       "      <td>The compilation process is the process by whic...</td>\n",
       "      <td>1</td>\n",
       "      <td>[-2.0775006, -0.20958309, 0.59049886, 0.627492...</td>\n",
       "    </tr>\n",
       "    <tr>\n",
       "      <th>1017</th>\n",
       "      <td>Code generation is the process of converting t...</td>\n",
       "      <td>1</td>\n",
       "      <td>[-1.6681834, -0.11671716, 0.44620022, 1.079192...</td>\n",
       "    </tr>\n",
       "  </tbody>\n",
       "</table>\n",
       "<p>1018 rows × 3 columns</p>\n",
       "</div>"
      ],
      "text/plain": [
       "                                                 cleanp  cls  \\\n",
       "0     NLP is a multidisciplinary field that draws fr...    0   \n",
       "1     There are a variety of emerging applications f...    0   \n",
       "2     As each new means of communication and social ...    0   \n",
       "3     These suggestions include:, Learn about the pu...    0   \n",
       "4     In recent years there has been growing concern...    0   \n",
       "...                                                 ...  ...   \n",
       "1013  Palettes can refer to different things dependi...    1   \n",
       "1014  Probability is a measure of the likelihood tha...    1   \n",
       "1015  A compiler is a software program that translat...    1   \n",
       "1016  The compilation process is the process by whic...    1   \n",
       "1017  Code generation is the process of converting t...    1   \n",
       "\n",
       "                                                 vector  \n",
       "0     [-1.8836701, 0.47771224, -1.1232015, 0.0521150...  \n",
       "1     [-2.311638, -1.6605363, -0.8282042, 1.3762801,...  \n",
       "2     [-1.9235613, 0.30402324, -1.3203417, 0.0981003...  \n",
       "3     [-1.4809314, 0.8531074, -1.529263, -0.2555996,...  \n",
       "4     [-2.6167812, -0.50970966, -2.0028265, 0.704959...  \n",
       "...                                                 ...  \n",
       "1013  [-3.1741989, 1.0468854, -2.7742012, 0.18923098...  \n",
       "1014  [-2.1461232, -0.39627567, -1.3561733, 0.780661...  \n",
       "1015  [-1.6014613, 0.14110367, -0.48585984, 0.389496...  \n",
       "1016  [-2.0775006, -0.20958309, 0.59049886, 0.627492...  \n",
       "1017  [-1.6681834, -0.11671716, 0.44620022, 1.079192...  \n",
       "\n",
       "[1018 rows x 3 columns]"
      ]
     },
     "execution_count": 75,
     "metadata": {},
     "output_type": "execute_result"
    }
   ],
   "source": [
    "data"
   ]
  },
  {
   "cell_type": "code",
   "execution_count": 76,
   "id": "32eedc6a",
   "metadata": {},
   "outputs": [],
   "source": [
    "data['Label']=data['cls'].map({0:'Human',1:'GPT'})"
   ]
  },
  {
   "cell_type": "code",
   "execution_count": 77,
   "id": "cc8ffcef",
   "metadata": {},
   "outputs": [],
   "source": [
    "data.drop('vector',inplace=True,axis=1)\n",
    "data.drop('cls',inplace=True,axis=1)"
   ]
  },
  {
   "cell_type": "code",
   "execution_count": 78,
   "id": "88a592c5",
   "metadata": {},
   "outputs": [
    {
     "data": {
      "text/html": [
       "<div>\n",
       "<style scoped>\n",
       "    .dataframe tbody tr th:only-of-type {\n",
       "        vertical-align: middle;\n",
       "    }\n",
       "\n",
       "    .dataframe tbody tr th {\n",
       "        vertical-align: top;\n",
       "    }\n",
       "\n",
       "    .dataframe thead th {\n",
       "        text-align: right;\n",
       "    }\n",
       "</style>\n",
       "<table border=\"1\" class=\"dataframe\">\n",
       "  <thead>\n",
       "    <tr style=\"text-align: right;\">\n",
       "      <th></th>\n",
       "      <th>cleanp</th>\n",
       "      <th>Label</th>\n",
       "    </tr>\n",
       "  </thead>\n",
       "  <tbody>\n",
       "    <tr>\n",
       "      <th>0</th>\n",
       "      <td>NLP is a multidisciplinary field that draws fr...</td>\n",
       "      <td>Human</td>\n",
       "    </tr>\n",
       "    <tr>\n",
       "      <th>1</th>\n",
       "      <td>There are a variety of emerging applications f...</td>\n",
       "      <td>Human</td>\n",
       "    </tr>\n",
       "    <tr>\n",
       "      <th>2</th>\n",
       "      <td>As each new means of communication and social ...</td>\n",
       "      <td>Human</td>\n",
       "    </tr>\n",
       "    <tr>\n",
       "      <th>3</th>\n",
       "      <td>These suggestions include:, Learn about the pu...</td>\n",
       "      <td>Human</td>\n",
       "    </tr>\n",
       "    <tr>\n",
       "      <th>4</th>\n",
       "      <td>In recent years there has been growing concern...</td>\n",
       "      <td>Human</td>\n",
       "    </tr>\n",
       "    <tr>\n",
       "      <th>...</th>\n",
       "      <td>...</td>\n",
       "      <td>...</td>\n",
       "    </tr>\n",
       "    <tr>\n",
       "      <th>1013</th>\n",
       "      <td>Palettes can refer to different things dependi...</td>\n",
       "      <td>GPT</td>\n",
       "    </tr>\n",
       "    <tr>\n",
       "      <th>1014</th>\n",
       "      <td>Probability is a measure of the likelihood tha...</td>\n",
       "      <td>GPT</td>\n",
       "    </tr>\n",
       "    <tr>\n",
       "      <th>1015</th>\n",
       "      <td>A compiler is a software program that translat...</td>\n",
       "      <td>GPT</td>\n",
       "    </tr>\n",
       "    <tr>\n",
       "      <th>1016</th>\n",
       "      <td>The compilation process is the process by whic...</td>\n",
       "      <td>GPT</td>\n",
       "    </tr>\n",
       "    <tr>\n",
       "      <th>1017</th>\n",
       "      <td>Code generation is the process of converting t...</td>\n",
       "      <td>GPT</td>\n",
       "    </tr>\n",
       "  </tbody>\n",
       "</table>\n",
       "<p>1018 rows × 2 columns</p>\n",
       "</div>"
      ],
      "text/plain": [
       "                                                 cleanp  Label\n",
       "0     NLP is a multidisciplinary field that draws fr...  Human\n",
       "1     There are a variety of emerging applications f...  Human\n",
       "2     As each new means of communication and social ...  Human\n",
       "3     These suggestions include:, Learn about the pu...  Human\n",
       "4     In recent years there has been growing concern...  Human\n",
       "...                                                 ...    ...\n",
       "1013  Palettes can refer to different things dependi...    GPT\n",
       "1014  Probability is a measure of the likelihood tha...    GPT\n",
       "1015  A compiler is a software program that translat...    GPT\n",
       "1016  The compilation process is the process by whic...    GPT\n",
       "1017  Code generation is the process of converting t...    GPT\n",
       "\n",
       "[1018 rows x 2 columns]"
      ]
     },
     "execution_count": 78,
     "metadata": {},
     "output_type": "execute_result"
    }
   ],
   "source": [
    "data"
   ]
  },
  {
   "cell_type": "code",
   "execution_count": 79,
   "id": "5f6c58a9",
   "metadata": {},
   "outputs": [],
   "source": [
    "from sklearn.preprocessing import LabelEncoder\n",
    "from keras.models import Model\n",
    "from keras.layers import LSTM, Activation, Dense, Dropout, Input, Embedding\n",
    "from keras.optimizers import RMSprop\n",
    "from keras.preprocessing.text import Tokenizer\n",
    "from keras.utils import pad_sequences\n",
    "from keras.utils import to_categorical\n",
    "from keras.callbacks import EarlyStopping\n",
    "\n",
    "X = data.cleanp\n",
    "Y = data.Label\n",
    "le = LabelEncoder()\n",
    "Y = le.fit_transform(Y)\n",
    "Y = Y.reshape(-1,1)"
   ]
  },
  {
   "cell_type": "code",
   "execution_count": 19,
   "id": "a6833330",
   "metadata": {},
   "outputs": [
    {
     "data": {
      "text/plain": [
       "array([[1],\n",
       "       [1],\n",
       "       [1],\n",
       "       ...,\n",
       "       [0],\n",
       "       [0],\n",
       "       [0]])"
      ]
     },
     "execution_count": 19,
     "metadata": {},
     "output_type": "execute_result"
    }
   ],
   "source": [
    "Y"
   ]
  },
  {
   "cell_type": "code",
   "execution_count": 333,
   "id": "f61a0739",
   "metadata": {},
   "outputs": [],
   "source": [
    "import pickle\n",
    "with open('train_test_splits.pkl', 'rb') as f:\n",
    "    X_train, X_test, Y_train, Y_test = pickle.load(f)"
   ]
  },
  {
   "cell_type": "markdown",
   "id": "77ec350c",
   "metadata": {},
   "source": [
    "# Data preprocessing for LSTM model"
   ]
  },
  {
   "cell_type": "code",
   "execution_count": 83,
   "id": "a538c10d",
   "metadata": {},
   "outputs": [],
   "source": [
    "max_words = 1000\n",
    "max_len = 150 \n",
    "#tokenisation\n",
    "tok = Tokenizer(num_words=max_words)\n",
    "\n",
    "#converting text to sequence with max length\n",
    "tok.fit_on_texts(X_train)\n",
    "sequences = tok.texts_to_sequences(X_train)\n",
    "sequences_matrix = pad_sequences(sequences,maxlen=max_len)"
   ]
  },
  {
   "cell_type": "code",
   "execution_count": 84,
   "id": "0e0aedba",
   "metadata": {},
   "outputs": [
    {
     "data": {
      "text/plain": [
       "array([[  0,   0,   0, ..., 693,   8, 109],\n",
       "       [  0,   0,   0, ..., 174,   3,  13],\n",
       "       [  0,   0,   0, ..., 992,  10,  40],\n",
       "       ...,\n",
       "       [  0,   0,   0, ...,   2, 829, 107],\n",
       "       [  0,   0,   0, ...,  23, 799, 604],\n",
       "       [  0,   0,   0, ..., 114,   5, 493]])"
      ]
     },
     "execution_count": 84,
     "metadata": {},
     "output_type": "execute_result"
    }
   ],
   "source": [
    "sequences_matrix"
   ]
  },
  {
   "cell_type": "code",
   "execution_count": 334,
   "id": "bb3103a0",
   "metadata": {},
   "outputs": [],
   "source": [
    "#defining LSTM based RNN model\n",
    "def RNN():\n",
    "    inputs = Input(name='inputs',shape=[max_len])\n",
    "    layer = Embedding(max_words,50,input_length=max_len)(inputs)\n",
    "    layer = LSTM(64)(layer)\n",
    "    layer = Dense(256,name='FC1')(layer)\n",
    "    layer = Activation('relu')(layer)\n",
    "    layer = Dropout(0.5)(layer)\n",
    "    layer = Dense(1,name='out_layer')(layer)\n",
    "    layer = Activation('sigmoid')(layer)\n",
    "    model = Model(inputs=inputs,outputs=layer)\n",
    "    return model"
   ]
  },
  {
   "cell_type": "markdown",
   "id": "9830e06e",
   "metadata": {},
   "source": [
    "### LSTM with Adam optimization"
   ]
  },
  {
   "cell_type": "code",
   "execution_count": 172,
   "id": "6926c876",
   "metadata": {},
   "outputs": [],
   "source": [
    "\n",
    "model=RNN()\n",
    "model.compile(loss='binary_crossentropy',optimizer='adam',metrics=['accuracy'])  "
   ]
  },
  {
   "cell_type": "code",
   "execution_count": 173,
   "id": "4c04e966",
   "metadata": {},
   "outputs": [
    {
     "name": "stdout",
     "output_type": "stream",
     "text": [
      "Model: \"model_14\"\n",
      "_________________________________________________________________\n",
      " Layer (type)                Output Shape              Param #   \n",
      "=================================================================\n",
      " inputs (InputLayer)         [(None, 150)]             0         \n",
      "                                                                 \n",
      " embedding_14 (Embedding)    (None, 150, 50)           50000     \n",
      "                                                                 \n",
      " lstm_14 (LSTM)              (None, 64)                29440     \n",
      "                                                                 \n",
      " FC1 (Dense)                 (None, 256)               16640     \n",
      "                                                                 \n",
      " activation_28 (Activation)  (None, 256)               0         \n",
      "                                                                 \n",
      " dropout_14 (Dropout)        (None, 256)               0         \n",
      "                                                                 \n",
      " out_layer (Dense)           (None, 1)                 257       \n",
      "                                                                 \n",
      " activation_29 (Activation)  (None, 1)                 0         \n",
      "                                                                 \n",
      "=================================================================\n",
      "Total params: 96,337\n",
      "Trainable params: 96,337\n",
      "Non-trainable params: 0\n",
      "_________________________________________________________________\n"
     ]
    }
   ],
   "source": [
    "model.summary()"
   ]
  },
  {
   "cell_type": "code",
   "execution_count": 174,
   "id": "764e6f7c",
   "metadata": {},
   "outputs": [
    {
     "name": "stdout",
     "output_type": "stream",
     "text": [
      "Epoch 1/50\n",
      "6/6 [==============================] - 2s 174ms/step - loss: 0.6927 - accuracy: 0.5116 - val_loss: 0.6903 - val_accuracy: 0.5549\n",
      "Epoch 2/50\n",
      "6/6 [==============================] - 1s 137ms/step - loss: 0.6881 - accuracy: 0.6329 - val_loss: 0.6837 - val_accuracy: 0.6763\n",
      "Epoch 3/50\n",
      "6/6 [==============================] - 1s 129ms/step - loss: 0.6735 - accuracy: 0.7240 - val_loss: 0.6559 - val_accuracy: 0.7110\n",
      "Epoch 4/50\n",
      "6/6 [==============================] - 1s 118ms/step - loss: 0.6137 - accuracy: 0.7702 - val_loss: 0.5034 - val_accuracy: 0.8266\n",
      "Epoch 5/50\n",
      "6/6 [==============================] - 1s 111ms/step - loss: 0.5088 - accuracy: 0.8382 - val_loss: 0.4158 - val_accuracy: 0.8208\n",
      "Epoch 6/50\n",
      "6/6 [==============================] - 1s 109ms/step - loss: 0.3641 - accuracy: 0.8512 - val_loss: 0.3647 - val_accuracy: 0.8266\n",
      "Epoch 7/50\n",
      "6/6 [==============================] - 1s 121ms/step - loss: 0.2638 - accuracy: 0.8974 - val_loss: 0.2608 - val_accuracy: 0.8728\n",
      "Epoch 8/50\n",
      "6/6 [==============================] - 1s 121ms/step - loss: 0.1908 - accuracy: 0.9393 - val_loss: 0.2375 - val_accuracy: 0.8902\n",
      "Epoch 9/50\n",
      "6/6 [==============================] - 1s 128ms/step - loss: 0.1188 - accuracy: 0.9624 - val_loss: 0.2607 - val_accuracy: 0.9017\n",
      "Epoch 10/50\n",
      "6/6 [==============================] - 1s 112ms/step - loss: 0.0729 - accuracy: 0.9783 - val_loss: 0.2158 - val_accuracy: 0.8960\n",
      "Epoch 11/50\n",
      "6/6 [==============================] - 1s 113ms/step - loss: 0.0598 - accuracy: 0.9928 - val_loss: 0.2382 - val_accuracy: 0.9075\n",
      "Epoch 12/50\n",
      "6/6 [==============================] - 1s 117ms/step - loss: 0.0373 - accuracy: 0.9971 - val_loss: 0.2605 - val_accuracy: 0.9249\n",
      "Epoch 13/50\n",
      "6/6 [==============================] - 1s 119ms/step - loss: 0.0329 - accuracy: 0.9957 - val_loss: 0.2737 - val_accuracy: 0.9191\n"
     ]
    }
   ],
   "source": [
    "history=model.fit(sequences_matrix,Y_train,batch_size=128,epochs=50,\n",
    "          validation_split=0.2,callbacks=[EarlyStopping(monitor='val_loss',patience=3,min_delta=0.0001)])"
   ]
  },
  {
   "cell_type": "code",
   "execution_count": 175,
   "id": "1a6674a2",
   "metadata": {},
   "outputs": [
    {
     "data": {
      "image/png": "[encoded data removed]",
      "text/plain": [
       "<Figure size 1200x500 with 2 Axes>"
      ]
     },
     "metadata": {},
     "output_type": "display_data"
    }
   ],
   "source": [
    "#plotting training and validation accuracy and loss\n",
    "import matplotlib.pyplot as plt\n",
    "plt.style.use('ggplot')\n",
    "\n",
    "def plot_history(history):\n",
    "    acc = history.history['accuracy']\n",
    "    val_acc = history.history['val_accuracy']\n",
    "    loss = history.history['loss']\n",
    "    val_loss = history.history['val_loss']\n",
    "    x = range(1, len(acc) + 1)\n",
    "\n",
    "    plt.figure(figsize=(12, 5))\n",
    "    plt.subplot(1, 2, 1)\n",
    "    plt.plot(x, acc, 'b', label='Training acc')\n",
    "    plt.plot(x, val_acc, 'r', label='Validation acc')\n",
    "    plt.title('Training and validation accuracy')\n",
    "    plt.legend()\n",
    "    plt.subplot(1, 2, 2)\n",
    "    plt.plot(x, loss, 'b', label='Training loss')\n",
    "    plt.plot(x, val_loss, 'r', label='Validation loss')\n",
    "    plt.title('Training and validation loss')\n",
    "    plt.legend()\n",
    "plot_history(history)"
   ]
  },
  {
   "cell_type": "code",
   "execution_count": 176,
   "id": "846340c5",
   "metadata": {},
   "outputs": [],
   "source": [
    "#Tokenizing and padding test data \n",
    "test_sequences = tok.texts_to_sequences(X_test)\n",
    "test_sequences_matrix = pad_sequences(test_sequences,maxlen=max_len)"
   ]
  },
  {
   "cell_type": "code",
   "execution_count": 177,
   "id": "a0028821",
   "metadata": {},
   "outputs": [
    {
     "name": "stdout",
     "output_type": "stream",
     "text": [
      "5/5 [==============================] - 0s 13ms/step - loss: 0.2624 - accuracy: 0.9281\n"
     ]
    }
   ],
   "source": [
    "accr = model.evaluate(test_sequences_matrix,Y_test)"
   ]
  },
  {
   "cell_type": "code",
   "execution_count": 178,
   "id": "9be1063b",
   "metadata": {},
   "outputs": [],
   "source": [
    "model1=RNN()\n",
    "model1.compile(loss='binary_crossentropy',optimizer='adam',metrics=['accuracy'])  \n",
    "\n",
    "#restoring previosuly trained model to get same weights\n",
    "filepath = \"model_LSTM11.h5\"\n",
    "model1.load_weights(filepath)"
   ]
  },
  {
   "cell_type": "code",
   "execution_count": 179,
   "id": "92255b16",
   "metadata": {},
   "outputs": [],
   "source": [
    "test_sequences = tok.texts_to_sequences(X_test)\n",
    "test_sequences_matrix = pad_sequences(test_sequences,maxlen=max_len)"
   ]
  },
  {
   "cell_type": "code",
   "execution_count": 240,
   "id": "fa060013",
   "metadata": {},
   "outputs": [
    {
     "name": "stdout",
     "output_type": "stream",
     "text": [
      "5/5 [==============================] - 0s 25ms/step - loss: 0.2020 - accuracy: 0.9412\n",
      "Restored model, accuracy: 94.12%\n"
     ]
    }
   ],
   "source": [
    "loss, acc = model1.evaluate(test_sequences_matrix,Y_test)\n",
    "print(\"Restored model, accuracy: {:5.2f}%\".format(100 * acc))"
   ]
  },
  {
   "cell_type": "code",
   "execution_count": 241,
   "id": "f8f9a6d3",
   "metadata": {},
   "outputs": [
    {
     "name": "stdout",
     "output_type": "stream",
     "text": [
      "5/5 [==============================] - 0s 20ms/step\n"
     ]
    }
   ],
   "source": [
    "y_prob=model1.predict(test_sequences_matrix)\n",
    "y_pred = (y_prob > 0.5).astype(int)"
   ]
  },
  {
   "cell_type": "code",
   "execution_count": 243,
   "id": "daa6bf74",
   "metadata": {},
   "outputs": [
    {
     "data": {
      "text/plain": [
       "Text(0.5, 1.0, 'Percentage Confusion Matrix of LSTM with Adam Optimizer')"
      ]
     },
     "execution_count": 243,
     "metadata": {},
     "output_type": "execute_result"
    },
    {
     "data": {
      "image/png": "[encoded data removed]",
      "text/plain": [
       "<Figure size 1000x700 with 2 Axes>"
      ]
     },
     "metadata": {},
     "output_type": "display_data"
    }
   ],
   "source": [
    "cm = confusion_matrix(Y_test, y_pred)\n",
    "cm_p=percentage_confusion_matrix(cm)\n",
    "\n",
    "from matplotlib import pyplot as plt\n",
    "import seaborn as sn\n",
    "plt.figure(figsize = (10,7))\n",
    "sn.heatmap(cm_p, annot=True)\n",
    "plt.xlabel('Prediction')\n",
    "plt.ylabel('Truth')\n",
    "plt.title('Percentage Confusion Matrix of LSTM with Adam Optimizer')"
   ]
  },
  {
   "cell_type": "code",
   "execution_count": 244,
   "id": "0c77a627",
   "metadata": {},
   "outputs": [],
   "source": [
    "#storing tpr and fpr rate to plot roc curve\n",
    "fpr_list_lstm=[]\n",
    "tpr_list_lstm=[]\n",
    "fpr, tpr, _ = roc_curve(Y_test,y_pred)\n",
    "fpr_list_lstm.append(fpr)\n",
    "tpr_list_lstm.append(tpr)"
   ]
  },
  {
   "cell_type": "markdown",
   "id": "7f31a456",
   "metadata": {},
   "source": [
    "### LSTM with RMSProp "
   ]
  },
  {
   "cell_type": "code",
   "execution_count": 165,
   "id": "18fef23a",
   "metadata": {},
   "outputs": [
    {
     "name": "stdout",
     "output_type": "stream",
     "text": [
      "Model: \"model_13\"\n",
      "_________________________________________________________________\n",
      " Layer (type)                Output Shape              Param #   \n",
      "=================================================================\n",
      " inputs (InputLayer)         [(None, 150)]             0         \n",
      "                                                                 \n",
      " embedding_13 (Embedding)    (None, 150, 50)           50000     \n",
      "                                                                 \n",
      " lstm_13 (LSTM)              (None, 64)                29440     \n",
      "                                                                 \n",
      " FC1 (Dense)                 (None, 256)               16640     \n",
      "                                                                 \n",
      " activation_26 (Activation)  (None, 256)               0         \n",
      "                                                                 \n",
      " dropout_13 (Dropout)        (None, 256)               0         \n",
      "                                                                 \n",
      " out_layer (Dense)           (None, 1)                 257       \n",
      "                                                                 \n",
      " activation_27 (Activation)  (None, 1)                 0         \n",
      "                                                                 \n",
      "=================================================================\n",
      "Total params: 96,337\n",
      "Trainable params: 96,337\n",
      "Non-trainable params: 0\n",
      "_________________________________________________________________\n"
     ]
    }
   ],
   "source": [
    "from tensorflow.keras.optimizers import RMSProp\n",
    "#LSTM with RMSprop optimizer\n",
    "model2 = RNN()\n",
    "model2.summary()\n",
    "model2.compile(loss='binary_crossentropy',optimizer=RMSprop(),metrics=['accuracy']) "
   ]
  },
  {
   "cell_type": "code",
   "execution_count": 166,
   "id": "0fba04dd",
   "metadata": {},
   "outputs": [
    {
     "name": "stdout",
     "output_type": "stream",
     "text": [
      "Epoch 1/70\n",
      "6/6 [==============================] - 2s 174ms/step - loss: 0.6910 - accuracy: 0.5376 - val_loss: 0.6767 - val_accuracy: 0.6763\n",
      "Epoch 2/70\n",
      "6/6 [==============================] - 1s 135ms/step - loss: 0.6588 - accuracy: 0.6243 - val_loss: 0.5756 - val_accuracy: 0.8092\n",
      "Epoch 3/70\n",
      "6/6 [==============================] - 1s 121ms/step - loss: 0.4813 - accuracy: 0.8367 - val_loss: 0.4860 - val_accuracy: 0.7399\n",
      "Epoch 4/70\n",
      "6/6 [==============================] - 1s 142ms/step - loss: 0.3661 - accuracy: 0.8656 - val_loss: 0.4178 - val_accuracy: 0.7977\n",
      "Epoch 5/70\n",
      "6/6 [==============================] - 1s 142ms/step - loss: 0.3254 - accuracy: 0.8844 - val_loss: 0.2418 - val_accuracy: 0.9017\n",
      "Epoch 6/70\n",
      "6/6 [==============================] - 1s 142ms/step - loss: 0.2118 - accuracy: 0.9277 - val_loss: 0.2813 - val_accuracy: 0.8671\n",
      "Epoch 7/70\n",
      "6/6 [==============================] - 1s 131ms/step - loss: 0.1756 - accuracy: 0.9436 - val_loss: 0.2565 - val_accuracy: 0.8960\n",
      "Epoch 8/70\n",
      "6/6 [==============================] - 1s 126ms/step - loss: 0.1654 - accuracy: 0.9480 - val_loss: 0.2057 - val_accuracy: 0.9133\n",
      "Epoch 9/70\n",
      "6/6 [==============================] - 1s 142ms/step - loss: 0.1013 - accuracy: 0.9769 - val_loss: 0.1795 - val_accuracy: 0.9191\n",
      "Epoch 10/70\n",
      "6/6 [==============================] - 1s 137ms/step - loss: 0.0674 - accuracy: 0.9855 - val_loss: 0.8928 - val_accuracy: 0.7919\n",
      "Epoch 11/70\n",
      "6/6 [==============================] - 1s 135ms/step - loss: 0.3246 - accuracy: 0.8858 - val_loss: 0.2402 - val_accuracy: 0.9075\n",
      "Epoch 12/70\n",
      "6/6 [==============================] - 1s 126ms/step - loss: 0.0826 - accuracy: 0.9870 - val_loss: 0.1736 - val_accuracy: 0.9306\n",
      "Epoch 13/70\n",
      "6/6 [==============================] - 1s 141ms/step - loss: 0.0443 - accuracy: 0.9942 - val_loss: 0.1746 - val_accuracy: 0.9191\n",
      "Epoch 14/70\n",
      "6/6 [==============================] - 1s 148ms/step - loss: 0.0365 - accuracy: 0.9913 - val_loss: 0.2026 - val_accuracy: 0.9306\n",
      "Epoch 15/70\n",
      "6/6 [==============================] - 1s 123ms/step - loss: 0.0306 - accuracy: 0.9942 - val_loss: 0.2202 - val_accuracy: 0.9364\n"
     ]
    }
   ],
   "source": [
    "history=model2.fit(sequences_matrix,Y_train,batch_size=128,epochs=70,\n",
    "          validation_split=0.2,callbacks=[EarlyStopping(monitor='val_loss',patience=3,min_delta=0.0001)])"
   ]
  },
  {
   "cell_type": "code",
   "execution_count": 245,
   "id": "eee50ed8",
   "metadata": {},
   "outputs": [
    {
     "name": "stdout",
     "output_type": "stream",
     "text": [
      "5/5 [==============================] - 0s 20ms/step - loss: 0.2700 - accuracy: 0.9216\n",
      "Test accuracy: 92.16%\n"
     ]
    }
   ],
   "source": [
    "loss, acc = model2.evaluate(test_sequences_matrix,Y_test)\n",
    "print(\"Test accuracy: {:5.2f}%\".format(100 * acc))"
   ]
  },
  {
   "cell_type": "code",
   "execution_count": 246,
   "id": "059b59fd",
   "metadata": {},
   "outputs": [
    {
     "name": "stdout",
     "output_type": "stream",
     "text": [
      "5/5 [==============================] - 0s 22ms/step\n",
      "Accuracy of LSTM with RMSProp: 0.9215686274509803\n"
     ]
    }
   ],
   "source": [
    "y_prob=model2.predict(test_sequences_matrix)\n",
    "y_pred = (y_prob > 0.5).astype(int)\n",
    "print('Accuracy of LSTM with RMSProp: {}'.format(metrics.accuracy_score(Y_test,y_pred)))"
   ]
  },
  {
   "cell_type": "code",
   "execution_count": 247,
   "id": "992a7dee",
   "metadata": {},
   "outputs": [
    {
     "data": {
      "image/png": "[encoded data removed]",
      "text/plain": [
       "<Figure size 1000x700 with 2 Axes>"
      ]
     },
     "metadata": {},
     "output_type": "display_data"
    }
   ],
   "source": [
    "cm = confusion_matrix(Y_test, y_pred)\n",
    "cm_p=percentage_confusion_matrix(cm)\n",
    "\n",
    "from matplotlib import pyplot as plt\n",
    "import seaborn as sn\n",
    "plt.figure(figsize = (10,7))\n",
    "sn.heatmap(cm_p, annot=True)\n",
    "plt.xlabel('Prediction')\n",
    "plt.ylabel('Truth')\n",
    "plt.title('Percentage Confusion Matrix of LSTM with RMSProp Optimizer')\n",
    "\n",
    "fpr, tpr, _ = roc_curve(Y_test,y_pred)\n",
    "fpr_list_lstm.append(fpr)\n",
    "tpr_list_lstm.append(tpr)"
   ]
  },
  {
   "cell_type": "code",
   "execution_count": 169,
   "id": "8a4cf982",
   "metadata": {},
   "outputs": [],
   "source": [
    "filepath = \"model_LSTM_RMS.h5\"\n",
    "model2.save_weights(filepath.format(epoch=15))\n"
   ]
  },
  {
   "cell_type": "markdown",
   "id": "bc041bf3",
   "metadata": {},
   "source": [
    "### LSTM with Adamax"
   ]
  },
  {
   "cell_type": "code",
   "execution_count": 336,
   "id": "6f7cc031",
   "metadata": {},
   "outputs": [
    {
     "name": "stdout",
     "output_type": "stream",
     "text": [
      "Model: \"model_24\"\n",
      "_________________________________________________________________\n",
      " Layer (type)                Output Shape              Param #   \n",
      "=================================================================\n",
      " inputs (InputLayer)         [(None, 150)]             0         \n",
      "                                                                 \n",
      " embedding_24 (Embedding)    (None, 150, 50)           50000     \n",
      "                                                                 \n",
      " lstm_24 (LSTM)              (None, 64)                29440     \n",
      "                                                                 \n",
      " FC1 (Dense)                 (None, 256)               16640     \n",
      "                                                                 \n",
      " activation_48 (Activation)  (None, 256)               0         \n",
      "                                                                 \n",
      " dropout_24 (Dropout)        (None, 256)               0         \n",
      "                                                                 \n",
      " out_layer (Dense)           (None, 1)                 257       \n",
      "                                                                 \n",
      " activation_49 (Activation)  (None, 1)                 0         \n",
      "                                                                 \n",
      "=================================================================\n",
      "Total params: 96,337\n",
      "Trainable params: 96,337\n",
      "Non-trainable params: 0\n",
      "_________________________________________________________________\n"
     ]
    }
   ],
   "source": [
    "\n",
    "from tensorflow.keras.optimizers import Adamax\n",
    "\n",
    "model3 = RNN()\n",
    "model3.summary()\n",
    "model3.compile(loss='binary_crossentropy',optimizer=Adamax(),metrics=['accuracy'])  #previous optimizer RMSProp()"
   ]
  },
  {
   "cell_type": "code",
   "execution_count": 337,
   "id": "205c799e",
   "metadata": {},
   "outputs": [
    {
     "name": "stdout",
     "output_type": "stream",
     "text": [
      "Epoch 1/30\n",
      "6/6 [==============================] - 3s 266ms/step - loss: 0.6924 - accuracy: 0.5636 - val_loss: 0.6911 - val_accuracy: 0.6590\n",
      "Epoch 2/30\n",
      "6/6 [==============================] - 1s 223ms/step - loss: 0.6894 - accuracy: 0.6503 - val_loss: 0.6883 - val_accuracy: 0.6763\n",
      "Epoch 3/30\n",
      "6/6 [==============================] - 1s 216ms/step - loss: 0.6845 - accuracy: 0.6951 - val_loss: 0.6824 - val_accuracy: 0.7225\n",
      "Epoch 4/30\n",
      "6/6 [==============================] - 1s 215ms/step - loss: 0.6745 - accuracy: 0.7731 - val_loss: 0.6703 - val_accuracy: 0.7514\n",
      "Epoch 5/30\n",
      "6/6 [==============================] - 1s 221ms/step - loss: 0.6556 - accuracy: 0.8107 - val_loss: 0.6447 - val_accuracy: 0.7977\n",
      "Epoch 6/30\n",
      "6/6 [==============================] - 1s 232ms/step - loss: 0.6141 - accuracy: 0.8309 - val_loss: 0.5847 - val_accuracy: 0.7688\n",
      "Epoch 7/30\n",
      "6/6 [==============================] - 1s 209ms/step - loss: 0.5057 - accuracy: 0.8150 - val_loss: 0.4550 - val_accuracy: 0.7746\n",
      "Epoch 8/30\n",
      "6/6 [==============================] - 1s 230ms/step - loss: 0.4405 - accuracy: 0.8136 - val_loss: 0.4086 - val_accuracy: 0.8497\n",
      "Epoch 9/30\n",
      "6/6 [==============================] - 1s 227ms/step - loss: 0.3824 - accuracy: 0.8555 - val_loss: 0.3785 - val_accuracy: 0.8324\n",
      "Epoch 10/30\n",
      "6/6 [==============================] - 1s 220ms/step - loss: 0.3410 - accuracy: 0.8757 - val_loss: 0.3332 - val_accuracy: 0.8728\n",
      "Epoch 11/30\n",
      "6/6 [==============================] - 1s 227ms/step - loss: 0.2988 - accuracy: 0.8786 - val_loss: 0.3168 - val_accuracy: 0.8613\n",
      "Epoch 12/30\n",
      "6/6 [==============================] - 1s 227ms/step - loss: 0.2730 - accuracy: 0.8988 - val_loss: 0.2955 - val_accuracy: 0.8671\n",
      "Epoch 13/30\n",
      "6/6 [==============================] - 1s 232ms/step - loss: 0.2378 - accuracy: 0.9220 - val_loss: 0.2560 - val_accuracy: 0.9133\n",
      "Epoch 14/30\n",
      "6/6 [==============================] - 1s 214ms/step - loss: 0.1993 - accuracy: 0.9292 - val_loss: 0.2473 - val_accuracy: 0.8960\n",
      "Epoch 15/30\n",
      "6/6 [==============================] - 1s 229ms/step - loss: 0.1700 - accuracy: 0.9379 - val_loss: 0.2494 - val_accuracy: 0.9133\n"
     ]
    }
   ],
   "source": [
    "history=model3.fit(sequences_matrix,Y_train,batch_size=128,epochs=30,\n",
    "          validation_split=0.2,callbacks=[EarlyStopping(monitor='val_loss',min_delta=0.0001)])"
   ]
  },
  {
   "cell_type": "code",
   "execution_count": 249,
   "id": "d5ae12a2",
   "metadata": {},
   "outputs": [
    {
     "name": "stdout",
     "output_type": "stream",
     "text": [
      "5/5 [==============================] - 0s 19ms/step - loss: 0.2676 - accuracy: 0.8954\n",
      "Test accuracy: 89.54%\n"
     ]
    }
   ],
   "source": [
    "loss, acc = model3.evaluate(test_sequences_matrix,Y_test)\n",
    "print(\"Test accuracy: {:5.2f}%\".format(100 * acc))"
   ]
  },
  {
   "cell_type": "code",
   "execution_count": 250,
   "id": "c3303654",
   "metadata": {},
   "outputs": [
    {
     "name": "stdout",
     "output_type": "stream",
     "text": [
      "5/5 [==============================] - 0s 23ms/step\n",
      "Accuracy of LSTM with Adamax: 0.8954248366013072\n"
     ]
    }
   ],
   "source": [
    "y_prob=model3.predict(test_sequences_matrix)\n",
    "y_pred = (y_prob > 0.5).astype(int)\n",
    "print('Accuracy of LSTM with Adamax: {}'.format(metrics.accuracy_score(Y_test,y_pred)))"
   ]
  },
  {
   "cell_type": "code",
   "execution_count": 198,
   "id": "3e86f0ee",
   "metadata": {},
   "outputs": [],
   "source": [
    "filepath = \"model_LSTM_Adamax.h5\"\n",
    "model3.save_weights(filepath.format(epoch=15))\n"
   ]
  },
  {
   "cell_type": "code",
   "execution_count": 251,
   "id": "ba85705c",
   "metadata": {},
   "outputs": [],
   "source": [
    "fpr, tpr, _ = roc_curve(Y_test,y_pred)\n",
    "fpr_list_lstm.append(fpr)\n",
    "tpr_list_lstm.append(tpr)"
   ]
  },
  {
   "cell_type": "code",
   "execution_count": 328,
   "id": "9ef89f29",
   "metadata": {},
   "outputs": [
    {
     "data": {
      "image/png": "[encoded data removed]",
      "text/plain": [
       "<Figure size 960x720 with 1 Axes>"
      ]
     },
     "metadata": {},
     "output_type": "display_data"
    }
   ],
   "source": [
    "import matplotlib.pyplot as pyplot\n",
    "algo=['Adam','RMSProp','Adamax']\n",
    "pyplot.figure(figsize=(8,6), dpi=120)\n",
    "for i in range(len(tpr_list_lstm)):\n",
    "    plt.plot(fpr_list_lstm[i], tpr_list_lstm[i], label=algo[i])\n",
    "plt.title('ROC Curve for LSTM with different optimization')    \n",
    "plt.xlabel('False Positive Rate')\n",
    "plt.ylabel('True Positive Rate')\n",
    "plt.legend(loc='best')\n",
    "plt.show()"
   ]
  },
  {
   "cell_type": "markdown",
   "id": "c19e0ba3",
   "metadata": {},
   "source": [
    "# HUGGING FACE MODEL"
   ]
  },
  {
   "cell_type": "code",
   "execution_count": 731,
   "id": "a853e93c",
   "metadata": {},
   "outputs": [
    {
     "data": {
      "text/html": [
       "<div>\n",
       "<style scoped>\n",
       "    .dataframe tbody tr th:only-of-type {\n",
       "        vertical-align: middle;\n",
       "    }\n",
       "\n",
       "    .dataframe tbody tr th {\n",
       "        vertical-align: top;\n",
       "    }\n",
       "\n",
       "    .dataframe thead th {\n",
       "        text-align: right;\n",
       "    }\n",
       "</style>\n",
       "<table border=\"1\" class=\"dataframe\">\n",
       "  <thead>\n",
       "    <tr style=\"text-align: right;\">\n",
       "      <th></th>\n",
       "      <th>cleanp</th>\n",
       "      <th>Label</th>\n",
       "    </tr>\n",
       "  </thead>\n",
       "  <tbody>\n",
       "    <tr>\n",
       "      <th>0</th>\n",
       "      <td>NLP is a multidisciplinary field that draws fr...</td>\n",
       "      <td>Human</td>\n",
       "    </tr>\n",
       "    <tr>\n",
       "      <th>1</th>\n",
       "      <td>There are a variety of emerging applications f...</td>\n",
       "      <td>Human</td>\n",
       "    </tr>\n",
       "    <tr>\n",
       "      <th>2</th>\n",
       "      <td>As each new means of communication and social ...</td>\n",
       "      <td>Human</td>\n",
       "    </tr>\n",
       "    <tr>\n",
       "      <th>3</th>\n",
       "      <td>These suggestions include:, Learn about the pu...</td>\n",
       "      <td>Human</td>\n",
       "    </tr>\n",
       "    <tr>\n",
       "      <th>4</th>\n",
       "      <td>In recent years there has been growing concern...</td>\n",
       "      <td>Human</td>\n",
       "    </tr>\n",
       "    <tr>\n",
       "      <th>...</th>\n",
       "      <td>...</td>\n",
       "      <td>...</td>\n",
       "    </tr>\n",
       "    <tr>\n",
       "      <th>1013</th>\n",
       "      <td>Palettes can refer to different things dependi...</td>\n",
       "      <td>GPT</td>\n",
       "    </tr>\n",
       "    <tr>\n",
       "      <th>1014</th>\n",
       "      <td>Probability is a measure of the likelihood tha...</td>\n",
       "      <td>GPT</td>\n",
       "    </tr>\n",
       "    <tr>\n",
       "      <th>1015</th>\n",
       "      <td>A compiler is a software program that translat...</td>\n",
       "      <td>GPT</td>\n",
       "    </tr>\n",
       "    <tr>\n",
       "      <th>1016</th>\n",
       "      <td>The compilation process is the process by whic...</td>\n",
       "      <td>GPT</td>\n",
       "    </tr>\n",
       "    <tr>\n",
       "      <th>1017</th>\n",
       "      <td>Code generation is the process of converting t...</td>\n",
       "      <td>GPT</td>\n",
       "    </tr>\n",
       "  </tbody>\n",
       "</table>\n",
       "<p>1018 rows × 2 columns</p>\n",
       "</div>"
      ],
      "text/plain": [
       "                                                 cleanp  Label\n",
       "0     NLP is a multidisciplinary field that draws fr...  Human\n",
       "1     There are a variety of emerging applications f...  Human\n",
       "2     As each new means of communication and social ...  Human\n",
       "3     These suggestions include:, Learn about the pu...  Human\n",
       "4     In recent years there has been growing concern...  Human\n",
       "...                                                 ...    ...\n",
       "1013  Palettes can refer to different things dependi...    GPT\n",
       "1014  Probability is a measure of the likelihood tha...    GPT\n",
       "1015  A compiler is a software program that translat...    GPT\n",
       "1016  The compilation process is the process by whic...    GPT\n",
       "1017  Code generation is the process of converting t...    GPT\n",
       "\n",
       "[1018 rows x 2 columns]"
      ]
     },
     "execution_count": 731,
     "metadata": {},
     "output_type": "execute_result"
    }
   ],
   "source": [
    "data"
   ]
  },
  {
   "cell_type": "code",
   "execution_count": 732,
   "id": "72a7706b",
   "metadata": {},
   "outputs": [
    {
     "data": {
      "text/html": [
       "<div>\n",
       "<style scoped>\n",
       "    .dataframe tbody tr th:only-of-type {\n",
       "        vertical-align: middle;\n",
       "    }\n",
       "\n",
       "    .dataframe tbody tr th {\n",
       "        vertical-align: top;\n",
       "    }\n",
       "\n",
       "    .dataframe thead th {\n",
       "        text-align: right;\n",
       "    }\n",
       "</style>\n",
       "<table border=\"1\" class=\"dataframe\">\n",
       "  <thead>\n",
       "    <tr style=\"text-align: right;\">\n",
       "      <th></th>\n",
       "      <th>cleanp</th>\n",
       "      <th>Label</th>\n",
       "      <th>labels</th>\n",
       "    </tr>\n",
       "  </thead>\n",
       "  <tbody>\n",
       "    <tr>\n",
       "      <th>0</th>\n",
       "      <td>NLP is a multidisciplinary field that draws fr...</td>\n",
       "      <td>Human</td>\n",
       "      <td>0</td>\n",
       "    </tr>\n",
       "    <tr>\n",
       "      <th>1</th>\n",
       "      <td>There are a variety of emerging applications f...</td>\n",
       "      <td>Human</td>\n",
       "      <td>0</td>\n",
       "    </tr>\n",
       "    <tr>\n",
       "      <th>2</th>\n",
       "      <td>As each new means of communication and social ...</td>\n",
       "      <td>Human</td>\n",
       "      <td>0</td>\n",
       "    </tr>\n",
       "    <tr>\n",
       "      <th>3</th>\n",
       "      <td>These suggestions include:, Learn about the pu...</td>\n",
       "      <td>Human</td>\n",
       "      <td>0</td>\n",
       "    </tr>\n",
       "    <tr>\n",
       "      <th>4</th>\n",
       "      <td>In recent years there has been growing concern...</td>\n",
       "      <td>Human</td>\n",
       "      <td>0</td>\n",
       "    </tr>\n",
       "    <tr>\n",
       "      <th>...</th>\n",
       "      <td>...</td>\n",
       "      <td>...</td>\n",
       "      <td>...</td>\n",
       "    </tr>\n",
       "    <tr>\n",
       "      <th>1013</th>\n",
       "      <td>Palettes can refer to different things dependi...</td>\n",
       "      <td>GPT</td>\n",
       "      <td>1</td>\n",
       "    </tr>\n",
       "    <tr>\n",
       "      <th>1014</th>\n",
       "      <td>Probability is a measure of the likelihood tha...</td>\n",
       "      <td>GPT</td>\n",
       "      <td>1</td>\n",
       "    </tr>\n",
       "    <tr>\n",
       "      <th>1015</th>\n",
       "      <td>A compiler is a software program that translat...</td>\n",
       "      <td>GPT</td>\n",
       "      <td>1</td>\n",
       "    </tr>\n",
       "    <tr>\n",
       "      <th>1016</th>\n",
       "      <td>The compilation process is the process by whic...</td>\n",
       "      <td>GPT</td>\n",
       "      <td>1</td>\n",
       "    </tr>\n",
       "    <tr>\n",
       "      <th>1017</th>\n",
       "      <td>Code generation is the process of converting t...</td>\n",
       "      <td>GPT</td>\n",
       "      <td>1</td>\n",
       "    </tr>\n",
       "  </tbody>\n",
       "</table>\n",
       "<p>1018 rows × 3 columns</p>\n",
       "</div>"
      ],
      "text/plain": [
       "                                                 cleanp  Label  labels\n",
       "0     NLP is a multidisciplinary field that draws fr...  Human       0\n",
       "1     There are a variety of emerging applications f...  Human       0\n",
       "2     As each new means of communication and social ...  Human       0\n",
       "3     These suggestions include:, Learn about the pu...  Human       0\n",
       "4     In recent years there has been growing concern...  Human       0\n",
       "...                                                 ...    ...     ...\n",
       "1013  Palettes can refer to different things dependi...    GPT       1\n",
       "1014  Probability is a measure of the likelihood tha...    GPT       1\n",
       "1015  A compiler is a software program that translat...    GPT       1\n",
       "1016  The compilation process is the process by whic...    GPT       1\n",
       "1017  Code generation is the process of converting t...    GPT       1\n",
       "\n",
       "[1018 rows x 3 columns]"
      ]
     },
     "execution_count": 732,
     "metadata": {},
     "output_type": "execute_result"
    }
   ],
   "source": [
    "data['labels']=data['Label'].map({'Human':0,'GPT':1})\n",
    "data"
   ]
  },
  {
   "cell_type": "code",
   "execution_count": 733,
   "id": "6e432f09",
   "metadata": {},
   "outputs": [
    {
     "data": {
      "text/html": [
       "<div>\n",
       "<style scoped>\n",
       "    .dataframe tbody tr th:only-of-type {\n",
       "        vertical-align: middle;\n",
       "    }\n",
       "\n",
       "    .dataframe tbody tr th {\n",
       "        vertical-align: top;\n",
       "    }\n",
       "\n",
       "    .dataframe thead th {\n",
       "        text-align: right;\n",
       "    }\n",
       "</style>\n",
       "<table border=\"1\" class=\"dataframe\">\n",
       "  <thead>\n",
       "    <tr style=\"text-align: right;\">\n",
       "      <th></th>\n",
       "      <th>cleanp</th>\n",
       "      <th>labels</th>\n",
       "    </tr>\n",
       "  </thead>\n",
       "  <tbody>\n",
       "    <tr>\n",
       "      <th>0</th>\n",
       "      <td>NLP is a multidisciplinary field that draws fr...</td>\n",
       "      <td>0</td>\n",
       "    </tr>\n",
       "    <tr>\n",
       "      <th>1</th>\n",
       "      <td>There are a variety of emerging applications f...</td>\n",
       "      <td>0</td>\n",
       "    </tr>\n",
       "    <tr>\n",
       "      <th>2</th>\n",
       "      <td>As each new means of communication and social ...</td>\n",
       "      <td>0</td>\n",
       "    </tr>\n",
       "    <tr>\n",
       "      <th>3</th>\n",
       "      <td>These suggestions include:, Learn about the pu...</td>\n",
       "      <td>0</td>\n",
       "    </tr>\n",
       "    <tr>\n",
       "      <th>4</th>\n",
       "      <td>In recent years there has been growing concern...</td>\n",
       "      <td>0</td>\n",
       "    </tr>\n",
       "    <tr>\n",
       "      <th>...</th>\n",
       "      <td>...</td>\n",
       "      <td>...</td>\n",
       "    </tr>\n",
       "    <tr>\n",
       "      <th>1013</th>\n",
       "      <td>Palettes can refer to different things dependi...</td>\n",
       "      <td>1</td>\n",
       "    </tr>\n",
       "    <tr>\n",
       "      <th>1014</th>\n",
       "      <td>Probability is a measure of the likelihood tha...</td>\n",
       "      <td>1</td>\n",
       "    </tr>\n",
       "    <tr>\n",
       "      <th>1015</th>\n",
       "      <td>A compiler is a software program that translat...</td>\n",
       "      <td>1</td>\n",
       "    </tr>\n",
       "    <tr>\n",
       "      <th>1016</th>\n",
       "      <td>The compilation process is the process by whic...</td>\n",
       "      <td>1</td>\n",
       "    </tr>\n",
       "    <tr>\n",
       "      <th>1017</th>\n",
       "      <td>Code generation is the process of converting t...</td>\n",
       "      <td>1</td>\n",
       "    </tr>\n",
       "  </tbody>\n",
       "</table>\n",
       "<p>1018 rows × 2 columns</p>\n",
       "</div>"
      ],
      "text/plain": [
       "                                                 cleanp  labels\n",
       "0     NLP is a multidisciplinary field that draws fr...       0\n",
       "1     There are a variety of emerging applications f...       0\n",
       "2     As each new means of communication and social ...       0\n",
       "3     These suggestions include:, Learn about the pu...       0\n",
       "4     In recent years there has been growing concern...       0\n",
       "...                                                 ...     ...\n",
       "1013  Palettes can refer to different things dependi...       1\n",
       "1014  Probability is a measure of the likelihood tha...       1\n",
       "1015  A compiler is a software program that translat...       1\n",
       "1016  The compilation process is the process by whic...       1\n",
       "1017  Code generation is the process of converting t...       1\n",
       "\n",
       "[1018 rows x 2 columns]"
      ]
     },
     "execution_count": 733,
     "metadata": {},
     "output_type": "execute_result"
    }
   ],
   "source": [
    "data.drop('Label',inplace=True,axis=1)\n",
    "data"
   ]
  },
  {
   "cell_type": "code",
   "execution_count": 734,
   "id": "5c5ca16e",
   "metadata": {},
   "outputs": [],
   "source": [
    "data = data.sample(frac=1)"
   ]
  },
  {
   "cell_type": "code",
   "execution_count": 374,
   "id": "a7ef6819",
   "metadata": {},
   "outputs": [],
   "source": [
    "import pickle\n",
    "with open('train_test_splits.pkl', 'rb') as f:\n",
    "    X_train, X_test, Y_train, Y_test = pickle.load(f)"
   ]
  },
  {
   "cell_type": "markdown",
   "id": "8f235334",
   "metadata": {},
   "source": [
    "### Data preprocessing for DistilBERT model"
   ]
  },
  {
   "cell_type": "code",
   "execution_count": 375,
   "id": "bd180ae4",
   "metadata": {},
   "outputs": [],
   "source": [
    "Y_train=Y_train.flatten().tolist()"
   ]
  },
  {
   "cell_type": "code",
   "execution_count": 376,
   "id": "23e75899",
   "metadata": {},
   "outputs": [
    {
     "data": {
      "text/html": [
       "<div>\n",
       "<style scoped>\n",
       "    .dataframe tbody tr th:only-of-type {\n",
       "        vertical-align: middle;\n",
       "    }\n",
       "\n",
       "    .dataframe tbody tr th {\n",
       "        vertical-align: top;\n",
       "    }\n",
       "\n",
       "    .dataframe thead th {\n",
       "        text-align: right;\n",
       "    }\n",
       "</style>\n",
       "<table border=\"1\" class=\"dataframe\">\n",
       "  <thead>\n",
       "    <tr style=\"text-align: right;\">\n",
       "      <th></th>\n",
       "      <th>cleanp</th>\n",
       "      <th>labels</th>\n",
       "    </tr>\n",
       "  </thead>\n",
       "  <tbody>\n",
       "    <tr>\n",
       "      <th>217</th>\n",
       "      <td>most interfaces between users and computer sys...</td>\n",
       "      <td>1</td>\n",
       "    </tr>\n",
       "    <tr>\n",
       "      <th>432</th>\n",
       "      <td>With regard to databases, ensuring data securi...</td>\n",
       "      <td>1</td>\n",
       "    </tr>\n",
       "    <tr>\n",
       "      <th>729</th>\n",
       "      <td>The history of handwriting recognition systems...</td>\n",
       "      <td>0</td>\n",
       "    </tr>\n",
       "    <tr>\n",
       "      <th>739</th>\n",
       "      <td>Global trends can have a significant impact on...</td>\n",
       "      <td>0</td>\n",
       "    </tr>\n",
       "    <tr>\n",
       "      <th>159</th>\n",
       "      <td>The basic idea of VoIP is simple: the Internet...</td>\n",
       "      <td>1</td>\n",
       "    </tr>\n",
       "    <tr>\n",
       "      <th>...</th>\n",
       "      <td>...</td>\n",
       "      <td>...</td>\n",
       "    </tr>\n",
       "    <tr>\n",
       "      <th>1007</th>\n",
       "      <td>COBOL (Common Business Oriented Language) is a...</td>\n",
       "      <td>0</td>\n",
       "    </tr>\n",
       "    <tr>\n",
       "      <th>329</th>\n",
       "      <td>Click Wrap Agreement checks if a user meets ce...</td>\n",
       "      <td>1</td>\n",
       "    </tr>\n",
       "    <tr>\n",
       "      <th>985</th>\n",
       "      <td>Computer-aided software engineering (CASE) ref...</td>\n",
       "      <td>0</td>\n",
       "    </tr>\n",
       "    <tr>\n",
       "      <th>267</th>\n",
       "      <td>The  role  of  the  computer  in  film  begins...</td>\n",
       "      <td>1</td>\n",
       "    </tr>\n",
       "    <tr>\n",
       "      <th>732</th>\n",
       "      <td>Genetic algorithms are a type of optimization ...</td>\n",
       "      <td>0</td>\n",
       "    </tr>\n",
       "  </tbody>\n",
       "</table>\n",
       "<p>865 rows × 2 columns</p>\n",
       "</div>"
      ],
      "text/plain": [
       "                                                 cleanp  labels\n",
       "217   most interfaces between users and computer sys...       1\n",
       "432   With regard to databases, ensuring data securi...       1\n",
       "729   The history of handwriting recognition systems...       0\n",
       "739   Global trends can have a significant impact on...       0\n",
       "159   The basic idea of VoIP is simple: the Internet...       1\n",
       "...                                                 ...     ...\n",
       "1007  COBOL (Common Business Oriented Language) is a...       0\n",
       "329   Click Wrap Agreement checks if a user meets ce...       1\n",
       "985   Computer-aided software engineering (CASE) ref...       0\n",
       "267   The  role  of  the  computer  in  film  begins...       1\n",
       "732   Genetic algorithms are a type of optimization ...       0\n",
       "\n",
       "[865 rows x 2 columns]"
      ]
     },
     "execution_count": 376,
     "metadata": {},
     "output_type": "execute_result"
    }
   ],
   "source": [
    "train=pd.DataFrame()\n",
    "train['cleanp']=X_train\n",
    "train['labels']=Y_train\n",
    "train"
   ]
  },
  {
   "cell_type": "code",
   "execution_count": 377,
   "id": "3ff9390a",
   "metadata": {},
   "outputs": [
    {
     "data": {
      "text/html": [
       "<div>\n",
       "<style scoped>\n",
       "    .dataframe tbody tr th:only-of-type {\n",
       "        vertical-align: middle;\n",
       "    }\n",
       "\n",
       "    .dataframe tbody tr th {\n",
       "        vertical-align: top;\n",
       "    }\n",
       "\n",
       "    .dataframe thead th {\n",
       "        text-align: right;\n",
       "    }\n",
       "</style>\n",
       "<table border=\"1\" class=\"dataframe\">\n",
       "  <thead>\n",
       "    <tr style=\"text-align: right;\">\n",
       "      <th></th>\n",
       "      <th>cleanp</th>\n",
       "      <th>labels</th>\n",
       "    </tr>\n",
       "  </thead>\n",
       "  <tbody>\n",
       "    <tr>\n",
       "      <th>276</th>\n",
       "      <td>Smart  mobs  are  similar  in  organization  t...</td>\n",
       "      <td>1</td>\n",
       "    </tr>\n",
       "    <tr>\n",
       "      <th>805</th>\n",
       "      <td>Computer science is a field of study that focu...</td>\n",
       "      <td>0</td>\n",
       "    </tr>\n",
       "    <tr>\n",
       "      <th>780</th>\n",
       "      <td>Firewalls serve several important functions in...</td>\n",
       "      <td>0</td>\n",
       "    </tr>\n",
       "    <tr>\n",
       "      <th>945</th>\n",
       "      <td>Data communications refer to the transmission ...</td>\n",
       "      <td>0</td>\n",
       "    </tr>\n",
       "    <tr>\n",
       "      <th>249</th>\n",
       "      <td>Popular groupware software suites such as Lotu...</td>\n",
       "      <td>1</td>\n",
       "    </tr>\n",
       "    <tr>\n",
       "      <th>...</th>\n",
       "      <td>...</td>\n",
       "      <td>...</td>\n",
       "    </tr>\n",
       "    <tr>\n",
       "      <th>941</th>\n",
       "      <td>Data security is the practice of protecting di...</td>\n",
       "      <td>0</td>\n",
       "    </tr>\n",
       "    <tr>\n",
       "      <th>28</th>\n",
       "      <td>As with shoppers, investors have increasingly ...</td>\n",
       "      <td>1</td>\n",
       "    </tr>\n",
       "    <tr>\n",
       "      <th>759</th>\n",
       "      <td>Andrew Grove (1936-2016) was a Hungarian-Ameri...</td>\n",
       "      <td>0</td>\n",
       "    </tr>\n",
       "    <tr>\n",
       "      <th>279</th>\n",
       "      <td>Until  the  mid-1990s,  the  floppy  disk  or ...</td>\n",
       "      <td>1</td>\n",
       "    </tr>\n",
       "    <tr>\n",
       "      <th>211</th>\n",
       "      <td>The base 16 or hexadecimal system is a natural...</td>\n",
       "      <td>1</td>\n",
       "    </tr>\n",
       "  </tbody>\n",
       "</table>\n",
       "<p>153 rows × 2 columns</p>\n",
       "</div>"
      ],
      "text/plain": [
       "                                                cleanp  labels\n",
       "276  Smart  mobs  are  similar  in  organization  t...       1\n",
       "805  Computer science is a field of study that focu...       0\n",
       "780  Firewalls serve several important functions in...       0\n",
       "945  Data communications refer to the transmission ...       0\n",
       "249  Popular groupware software suites such as Lotu...       1\n",
       "..                                                 ...     ...\n",
       "941  Data security is the practice of protecting di...       0\n",
       "28   As with shoppers, investors have increasingly ...       1\n",
       "759  Andrew Grove (1936-2016) was a Hungarian-Ameri...       0\n",
       "279  Until  the  mid-1990s,  the  floppy  disk  or ...       1\n",
       "211  The base 16 or hexadecimal system is a natural...       1\n",
       "\n",
       "[153 rows x 2 columns]"
      ]
     },
     "execution_count": 377,
     "metadata": {},
     "output_type": "execute_result"
    }
   ],
   "source": [
    "Y_test=Y_test.flatten().tolist()\n",
    "test=pd.DataFrame()\n",
    "test['cleanp']=X_test\n",
    "test['labels']=Y_test\n",
    "test"
   ]
  },
  {
   "cell_type": "code",
   "execution_count": 378,
   "id": "62abb3f1",
   "metadata": {},
   "outputs": [],
   "source": [
    "train.to_csv('train.csv', index=False)"
   ]
  },
  {
   "cell_type": "code",
   "execution_count": 379,
   "id": "db557593",
   "metadata": {},
   "outputs": [],
   "source": [
    "test.to_csv('test.csv', index=False)"
   ]
  },
  {
   "cell_type": "code",
   "execution_count": 380,
   "id": "b02661c3",
   "metadata": {},
   "outputs": [
    {
     "name": "stdout",
     "output_type": "stream",
     "text": [
      "Downloading and preparing dataset csv/default to C:/Users/kship/.cache/huggingface/datasets/csv/default-404335de66b887ad/0.0.0/6b34fb8fcf56f7c8ba51dc895bfa2bfbe43546f190a60fcf74bb5e8afdcc2317...\n"
     ]
    },
    {
     "data": {
      "application/vnd.jupyter.widget-view+json": {
       "model_id": "f21e5e63d4044f098c2a14744974bab8",
       "version_major": 2,
       "version_minor": 0
      },
      "text/plain": [
       "Downloading data files:   0%|          | 0/2 [00:00<?, ?it/s]"
      ]
     },
     "metadata": {},
     "output_type": "display_data"
    },
    {
     "data": {
      "application/vnd.jupyter.widget-view+json": {
       "model_id": "37ad7d87ea6f4d78a33a91b8689978c9",
       "version_major": 2,
       "version_minor": 0
      },
      "text/plain": [
       "Extracting data files:   0%|          | 0/2 [00:00<?, ?it/s]"
      ]
     },
     "metadata": {},
     "output_type": "display_data"
    },
    {
     "data": {
      "application/vnd.jupyter.widget-view+json": {
       "model_id": "",
       "version_major": 2,
       "version_minor": 0
      },
      "text/plain": [
       "Generating train split: 0 examples [00:00, ? examples/s]"
      ]
     },
     "metadata": {},
     "output_type": "display_data"
    },
    {
     "data": {
      "application/vnd.jupyter.widget-view+json": {
       "model_id": "",
       "version_major": 2,
       "version_minor": 0
      },
      "text/plain": [
       "Generating test split: 0 examples [00:00, ? examples/s]"
      ]
     },
     "metadata": {},
     "output_type": "display_data"
    },
    {
     "name": "stdout",
     "output_type": "stream",
     "text": [
      "Dataset csv downloaded and prepared to C:/Users/kship/.cache/huggingface/datasets/csv/default-404335de66b887ad/0.0.0/6b34fb8fcf56f7c8ba51dc895bfa2bfbe43546f190a60fcf74bb5e8afdcc2317. Subsequent calls will reuse this data.\n"
     ]
    },
    {
     "data": {
      "application/vnd.jupyter.widget-view+json": {
       "model_id": "5b1377e8e17e480982d464c75ce8cf96",
       "version_major": 2,
       "version_minor": 0
      },
      "text/plain": [
       "  0%|          | 0/2 [00:00<?, ?it/s]"
      ]
     },
     "metadata": {},
     "output_type": "display_data"
    },
    {
     "data": {
      "text/plain": [
       "DatasetDict({\n",
       "    train: Dataset({\n",
       "        features: ['cleanp', 'labels'],\n",
       "        num_rows: 865\n",
       "    })\n",
       "    test: Dataset({\n",
       "        features: ['cleanp', 'labels'],\n",
       "        num_rows: 153\n",
       "    })\n",
       "})"
      ]
     },
     "execution_count": 380,
     "metadata": {},
     "output_type": "execute_result"
    }
   ],
   "source": [
    "import datasets\n",
    "from datasets import load_dataset\n",
    " \n",
    "dataset = load_dataset('csv', data_files={'train': 'train.csv', 'test': 'test.csv'})\n",
    " \n",
    "dataset"
   ]
  },
  {
   "cell_type": "code",
   "execution_count": 381,
   "id": "b3ebcb28",
   "metadata": {},
   "outputs": [
    {
     "data": {
      "application/vnd.jupyter.widget-view+json": {
       "model_id": "",
       "version_major": 2,
       "version_minor": 0
      },
      "text/plain": [
       "Map:   0%|          | 0/865 [00:00<?, ? examples/s]"
      ]
     },
     "metadata": {},
     "output_type": "display_data"
    },
    {
     "data": {
      "application/vnd.jupyter.widget-view+json": {
       "model_id": "",
       "version_major": 2,
       "version_minor": 0
      },
      "text/plain": [
       "Map:   0%|          | 0/153 [00:00<?, ? examples/s]"
      ]
     },
     "metadata": {},
     "output_type": "display_data"
    }
   ],
   "source": [
    "#performing tokenisation and padding on data\n",
    "from transformers import AutoTokenizer\n",
    " \n",
    "tokenizer = AutoTokenizer.from_pretrained(\"distilbert-base-cased\")\n",
    " \n",
    "def tokenize_function(examples):\n",
    "    return tokenizer(examples[\"cleanp\"], padding=\"max_length\", truncation=True)\n",
    " \n",
    "tokenized_datasets = dataset.map(tokenize_function, batched=True)"
   ]
  },
  {
   "cell_type": "code",
   "execution_count": 382,
   "id": "3f3f482b",
   "metadata": {},
   "outputs": [
    {
     "name": "stderr",
     "output_type": "stream",
     "text": [
      "Some weights of the model checkpoint at distilbert-base-cased were not used when initializing DistilBertForSequenceClassification: ['vocab_layer_norm.bias', 'vocab_transform.bias', 'vocab_projector.bias', 'vocab_transform.weight', 'vocab_layer_norm.weight', 'vocab_projector.weight']\n",
      "- This IS expected if you are initializing DistilBertForSequenceClassification from the checkpoint of a model trained on another task or with another architecture (e.g. initializing a BertForSequenceClassification model from a BertForPreTraining model).\n",
      "- This IS NOT expected if you are initializing DistilBertForSequenceClassification from the checkpoint of a model that you expect to be exactly identical (initializing a BertForSequenceClassification model from a BertForSequenceClassification model).\n",
      "Some weights of DistilBertForSequenceClassification were not initialized from the model checkpoint at distilbert-base-cased and are newly initialized: ['pre_classifier.bias', 'classifier.bias', 'classifier.weight', 'pre_classifier.weight']\n",
      "You should probably TRAIN this model on a down-stream task to be able to use it for predictions and inference.\n"
     ]
    }
   ],
   "source": [
    "from transformers import AutoModelForSequenceClassification\n",
    "checkpoint = \"distilbert-base-cased\"\n",
    "model = AutoModelForSequenceClassification.from_pretrained(checkpoint, num_labels=2)"
   ]
  },
  {
   "cell_type": "code",
   "execution_count": 383,
   "id": "d2c4a0e2",
   "metadata": {},
   "outputs": [
    {
     "name": "stderr",
     "output_type": "stream",
     "text": [
      "C:\\Users\\kship\\AppData\\Local\\Temp\\ipykernel_40320\\860608572.py:3: FutureWarning: load_metric is deprecated and will be removed in the next major version of datasets. Use 'evaluate.load' instead, from the new library 🤗 Evaluate: https://huggingface.co/docs/evaluate\n",
      "  metric = load_metric(\"accuracy\")\n",
      "Using the latest cached version of the module from C:\\Users\\kship\\.cache\\huggingface\\modules\\datasets_modules\\metrics\\accuracy\\9756d5fa4a0f9da966341741fc3926eafdc604b8276add51d5abbaa8958a25f9 (last modified on Tue Apr 11 10:50:18 2023) since it couldn't be found locally at accuracy, or remotely on the Hugging Face Hub.\n"
     ]
    }
   ],
   "source": [
    "from datasets import load_metric\n",
    " \n",
    "metric = load_metric(\"accuracy\")\n",
    " \n",
    "def compute_metrics(eval_pred):\n",
    "    logits, labels = eval_pred\n",
    "    predictions = np.argmax(logits, axis=-1)\n",
    "    return metric.compute(predictions=predictions, references=labels)"
   ]
  },
  {
   "cell_type": "code",
   "execution_count": 384,
   "id": "8b001756",
   "metadata": {},
   "outputs": [
    {
     "name": "stderr",
     "output_type": "stream",
     "text": [
      "The following columns in the training set don't have a corresponding argument in `DistilBertForSequenceClassification.forward` and have been ignored: cleanp. If cleanp are not expected by `DistilBertForSequenceClassification.forward`,  you can safely ignore this message.\n",
      "C:\\Users\\kship\\anaconda3\\lib\\site-packages\\transformers\\optimization.py:306: FutureWarning: This implementation of AdamW is deprecated and will be removed in a future version. Use the PyTorch implementation torch.optim.AdamW instead, or set `no_deprecation_warning=True` to disable this warning\n",
      "  warnings.warn(\n",
      "***** Running training *****\n",
      "  Num examples = 865\n",
      "  Num Epochs = 10\n",
      "  Instantaneous batch size per device = 8\n",
      "  Total train batch size (w. parallel, distributed & accumulation) = 8\n",
      "  Gradient Accumulation steps = 1\n",
      "  Total optimization steps = 1090\n",
      "  Number of trainable parameters = 65783042\n"
     ]
    },
    {
     "data": {
      "text/html": [
       "\n",
       "    <div>\n",
       "      \n",
       "      <progress value='1090' max='1090' style='width:300px; height:20px; vertical-align: middle;'></progress>\n",
       "      [1090/1090 4:15:01, Epoch 10/10]\n",
       "    </div>\n",
       "    <table border=\"1\" class=\"dataframe\">\n",
       "  <thead>\n",
       " <tr style=\"text-align: left;\">\n",
       "      <th>Epoch</th>\n",
       "      <th>Training Loss</th>\n",
       "      <th>Validation Loss</th>\n",
       "      <th>Accuracy</th>\n",
       "    </tr>\n",
       "  </thead>\n",
       "  <tbody>\n",
       "    <tr>\n",
       "      <td>1</td>\n",
       "      <td>No log</td>\n",
       "      <td>0.412239</td>\n",
       "      <td>0.921569</td>\n",
       "    </tr>\n",
       "    <tr>\n",
       "      <td>2</td>\n",
       "      <td>No log</td>\n",
       "      <td>0.371856</td>\n",
       "      <td>0.934641</td>\n",
       "    </tr>\n",
       "    <tr>\n",
       "      <td>3</td>\n",
       "      <td>No log</td>\n",
       "      <td>0.347582</td>\n",
       "      <td>0.941176</td>\n",
       "    </tr>\n",
       "    <tr>\n",
       "      <td>4</td>\n",
       "      <td>No log</td>\n",
       "      <td>0.305416</td>\n",
       "      <td>0.947712</td>\n",
       "    </tr>\n",
       "    <tr>\n",
       "      <td>5</td>\n",
       "      <td>0.092700</td>\n",
       "      <td>0.169755</td>\n",
       "      <td>0.967320</td>\n",
       "    </tr>\n",
       "    <tr>\n",
       "      <td>6</td>\n",
       "      <td>0.092700</td>\n",
       "      <td>0.218709</td>\n",
       "      <td>0.960784</td>\n",
       "    </tr>\n",
       "    <tr>\n",
       "      <td>7</td>\n",
       "      <td>0.092700</td>\n",
       "      <td>0.210894</td>\n",
       "      <td>0.960784</td>\n",
       "    </tr>\n",
       "    <tr>\n",
       "      <td>8</td>\n",
       "      <td>0.092700</td>\n",
       "      <td>0.146674</td>\n",
       "      <td>0.980392</td>\n",
       "    </tr>\n",
       "    <tr>\n",
       "      <td>9</td>\n",
       "      <td>0.092700</td>\n",
       "      <td>0.137355</td>\n",
       "      <td>0.980392</td>\n",
       "    </tr>\n",
       "    <tr>\n",
       "      <td>10</td>\n",
       "      <td>0.017000</td>\n",
       "      <td>0.137261</td>\n",
       "      <td>0.980392</td>\n",
       "    </tr>\n",
       "  </tbody>\n",
       "</table><p>"
      ],
      "text/plain": [
       "<IPython.core.display.HTML object>"
      ]
     },
     "metadata": {},
     "output_type": "display_data"
    },
    {
     "name": "stderr",
     "output_type": "stream",
     "text": [
      "The following columns in the evaluation set don't have a corresponding argument in `DistilBertForSequenceClassification.forward` and have been ignored: cleanp. If cleanp are not expected by `DistilBertForSequenceClassification.forward`,  you can safely ignore this message.\n",
      "***** Running Evaluation *****\n",
      "  Num examples = 153\n",
      "  Batch size = 8\n",
      "The following columns in the evaluation set don't have a corresponding argument in `DistilBertForSequenceClassification.forward` and have been ignored: cleanp. If cleanp are not expected by `DistilBertForSequenceClassification.forward`,  you can safely ignore this message.\n",
      "***** Running Evaluation *****\n",
      "  Num examples = 153\n",
      "  Batch size = 8\n",
      "The following columns in the evaluation set don't have a corresponding argument in `DistilBertForSequenceClassification.forward` and have been ignored: cleanp. If cleanp are not expected by `DistilBertForSequenceClassification.forward`,  you can safely ignore this message.\n",
      "***** Running Evaluation *****\n",
      "  Num examples = 153\n",
      "  Batch size = 8\n",
      "The following columns in the evaluation set don't have a corresponding argument in `DistilBertForSequenceClassification.forward` and have been ignored: cleanp. If cleanp are not expected by `DistilBertForSequenceClassification.forward`,  you can safely ignore this message.\n",
      "***** Running Evaluation *****\n",
      "  Num examples = 153\n",
      "  Batch size = 8\n",
      "Saving model checkpoint to test_trainer\\checkpoint-500\n",
      "Configuration saved in test_trainer\\checkpoint-500\\config.json\n",
      "Model weights saved in test_trainer\\checkpoint-500\\pytorch_model.bin\n",
      "The following columns in the evaluation set don't have a corresponding argument in `DistilBertForSequenceClassification.forward` and have been ignored: cleanp. If cleanp are not expected by `DistilBertForSequenceClassification.forward`,  you can safely ignore this message.\n",
      "***** Running Evaluation *****\n",
      "  Num examples = 153\n",
      "  Batch size = 8\n",
      "The following columns in the evaluation set don't have a corresponding argument in `DistilBertForSequenceClassification.forward` and have been ignored: cleanp. If cleanp are not expected by `DistilBertForSequenceClassification.forward`,  you can safely ignore this message.\n",
      "***** Running Evaluation *****\n",
      "  Num examples = 153\n",
      "  Batch size = 8\n",
      "The following columns in the evaluation set don't have a corresponding argument in `DistilBertForSequenceClassification.forward` and have been ignored: cleanp. If cleanp are not expected by `DistilBertForSequenceClassification.forward`,  you can safely ignore this message.\n",
      "***** Running Evaluation *****\n",
      "  Num examples = 153\n",
      "  Batch size = 8\n",
      "The following columns in the evaluation set don't have a corresponding argument in `DistilBertForSequenceClassification.forward` and have been ignored: cleanp. If cleanp are not expected by `DistilBertForSequenceClassification.forward`,  you can safely ignore this message.\n",
      "***** Running Evaluation *****\n",
      "  Num examples = 153\n",
      "  Batch size = 8\n",
      "The following columns in the evaluation set don't have a corresponding argument in `DistilBertForSequenceClassification.forward` and have been ignored: cleanp. If cleanp are not expected by `DistilBertForSequenceClassification.forward`,  you can safely ignore this message.\n",
      "***** Running Evaluation *****\n",
      "  Num examples = 153\n",
      "  Batch size = 8\n",
      "Saving model checkpoint to test_trainer\\checkpoint-1000\n",
      "Configuration saved in test_trainer\\checkpoint-1000\\config.json\n",
      "Model weights saved in test_trainer\\checkpoint-1000\\pytorch_model.bin\n",
      "The following columns in the evaluation set don't have a corresponding argument in `DistilBertForSequenceClassification.forward` and have been ignored: cleanp. If cleanp are not expected by `DistilBertForSequenceClassification.forward`,  you can safely ignore this message.\n",
      "***** Running Evaluation *****\n",
      "  Num examples = 153\n",
      "  Batch size = 8\n",
      "\n",
      "\n",
      "Training completed. Do not forget to share your model on huggingface.co/models =)\n",
      "\n",
      "\n"
     ]
    },
    {
     "data": {
      "text/plain": [
       "TrainOutput(global_step=1090, training_loss=0.05075508916596754, metrics={'train_runtime': 15322.7526, 'train_samples_per_second': 0.565, 'train_steps_per_second': 0.071, 'total_flos': 1145842998374400.0, 'train_loss': 0.05075508916596754, 'epoch': 10.0})"
      ]
     },
     "execution_count": 384,
     "metadata": {},
     "output_type": "execute_result"
    }
   ],
   "source": [
    "from transformers import TrainingArguments, Trainer\n",
    " \n",
    "training_args = TrainingArguments(output_dir=\"test_trainer\", evaluation_strategy=\"epoch\", num_train_epochs=10)\n",
    " \n",
    "trainer = Trainer(\n",
    "    model=model,\n",
    "    args=training_args,\n",
    "    train_dataset=tokenized_datasets[\"train\"],\n",
    "    eval_dataset=tokenized_datasets[\"test\"],\n",
    "    compute_metrics=compute_metrics\n",
    ")\n",
    " \n",
    "trainer.train()"
   ]
  },
  {
   "cell_type": "code",
   "execution_count": 385,
   "id": "6bc7d803",
   "metadata": {},
   "outputs": [
    {
     "name": "stderr",
     "output_type": "stream",
     "text": [
      "Configuration saved in chatGPTmodel\\config.json\n",
      "Model weights saved in chatGPTmodel\\pytorch_model.bin\n",
      "tokenizer config file saved in chatGPTmodel\\tokenizer_config.json\n",
      "Special tokens file saved in chatGPTmodel\\special_tokens_map.json\n"
     ]
    },
    {
     "data": {
      "text/plain": [
       "('chatGPTmodel\\\\tokenizer_config.json',\n",
       " 'chatGPTmodel\\\\special_tokens_map.json',\n",
       " 'chatGPTmodel\\\\vocab.txt',\n",
       " 'chatGPTmodel\\\\added_tokens.json',\n",
       " 'chatGPTmodel\\\\tokenizer.json')"
      ]
     },
     "execution_count": 385,
     "metadata": {},
     "output_type": "execute_result"
    }
   ],
   "source": [
    "model.save_pretrained(\"chatGPTmodel\")\n",
    "  \n",
    "tokenizer.save_pretrained(\"chatGPTmodel\")"
   ]
  },
  {
   "cell_type": "code",
   "execution_count": 386,
   "id": "ca758323",
   "metadata": {},
   "outputs": [
    {
     "name": "stderr",
     "output_type": "stream",
     "text": [
      "loading configuration file chatGPTmodel\\config.json\n",
      "Model config DistilBertConfig {\n",
      "  \"_name_or_path\": \"chatGPTmodel\",\n",
      "  \"activation\": \"gelu\",\n",
      "  \"architectures\": [\n",
      "    \"DistilBertForSequenceClassification\"\n",
      "  ],\n",
      "  \"attention_dropout\": 0.1,\n",
      "  \"dim\": 768,\n",
      "  \"dropout\": 0.1,\n",
      "  \"hidden_dim\": 3072,\n",
      "  \"initializer_range\": 0.02,\n",
      "  \"max_position_embeddings\": 512,\n",
      "  \"model_type\": \"distilbert\",\n",
      "  \"n_heads\": 12,\n",
      "  \"n_layers\": 6,\n",
      "  \"output_past\": true,\n",
      "  \"pad_token_id\": 0,\n",
      "  \"problem_type\": \"single_label_classification\",\n",
      "  \"qa_dropout\": 0.1,\n",
      "  \"seq_classif_dropout\": 0.2,\n",
      "  \"sinusoidal_pos_embds\": false,\n",
      "  \"tie_weights_\": true,\n",
      "  \"torch_dtype\": \"float32\",\n",
      "  \"transformers_version\": \"4.26.1\",\n",
      "  \"vocab_size\": 28996\n",
      "}\n",
      "\n",
      "loading weights file chatGPTmodel\\pytorch_model.bin\n",
      "All model checkpoint weights were used when initializing DistilBertForSequenceClassification.\n",
      "\n",
      "All the weights of DistilBertForSequenceClassification were initialized from the model checkpoint at chatGPTmodel.\n",
      "If your task is similar to the task the model of the checkpoint was trained on, you can already use DistilBertForSequenceClassification for predictions without further training.\n",
      "loading file vocab.txt\n",
      "loading file tokenizer.json\n",
      "loading file added_tokens.json\n",
      "loading file special_tokens_map.json\n",
      "loading file tokenizer_config.json\n"
     ]
    }
   ],
   "source": [
    "from transformers import AutoModelForSequenceClassification\n",
    "from transformers import AutoTokenizer\n",
    "load_model = AutoModelForSequenceClassification.from_pretrained(\"chatGPTmodel\")\n",
    " \n",
    "load_tokenizer = AutoTokenizer.from_pretrained(\"chatGPTmodel\")"
   ]
  },
  {
   "cell_type": "code",
   "execution_count": 387,
   "id": "1c25be89",
   "metadata": {},
   "outputs": [
    {
     "data": {
      "text/plain": [
       "'The base 16 or hexadecimal system is a natural way to rep-resent the binary data stored in a computer.  It is more com-pact than binary because four binary digits can be replaced by a single “hex” digit. The  following  table  gives  the  corresponding  decimal, binary, and hex values from 0 to 15:Note that decimal and hex digits are the same from 0 to 9,  but  hex  uses  the  letters  A–F  to  represent  the  digits  cor-responding to decimal 10–15.  The system extends to higher numbers  using  increasing  powers  of  16,  just  as  decimal uses  powers  of  10:  For  example,  hex  FF  represents  binary 111  11111 or decimal 255.  many of the apparently arbitrary numbers encountered in programming can be better under-stood  if  one  realizes  that  they  correspond  to  convenient groupings of bits: FF is eight bits, sufficient to hold a single character ,.  In low-level pro-gramming memory addresses are also usually given in hex '"
      ]
     },
     "execution_count": 387,
     "metadata": {},
     "output_type": "execute_result"
    }
   ],
   "source": [
    "test.cleanp[211]"
   ]
  },
  {
   "cell_type": "code",
   "execution_count": 388,
   "id": "b346bbcc",
   "metadata": {},
   "outputs": [
    {
     "data": {
      "text/plain": [
       "1"
      ]
     },
     "execution_count": 388,
     "metadata": {},
     "output_type": "execute_result"
    }
   ],
   "source": [
    "test.labels[211]"
   ]
  },
  {
   "cell_type": "code",
   "execution_count": 389,
   "id": "1e7f75f9",
   "metadata": {},
   "outputs": [
    {
     "name": "stderr",
     "output_type": "stream",
     "text": [
      "C:\\Users\\kship\\anaconda3\\lib\\site-packages\\transformers\\pipelines\\text_classification.py:104: UserWarning: `return_all_scores` is now deprecated,  if want a similar funcionality use `top_k=None` instead of `return_all_scores=True` or `top_k=1` instead of `return_all_scores=False`.\n",
      "  warnings.warn(\n"
     ]
    },
    {
     "data": {
      "text/plain": [
       "[[{'label': 'LABEL_0', 'score': 2.8350525099085644e-05},\n",
       "  {'label': 'LABEL_1', 'score': 0.9999716281890869}]]"
      ]
     },
     "execution_count": 389,
     "metadata": {},
     "output_type": "execute_result"
    }
   ],
   "source": [
    "from transformers import TextClassificationPipeline\n",
    "\n",
    "model = load_model\n",
    "tokenizer = load_tokenizer\n",
    "pipe = TextClassificationPipeline(model=model, tokenizer=tokenizer, return_all_scores=True)\n",
    "# outputs a list of dicts \n",
    "# example generated by ChatGPT\n",
    "pipe(\"The base 16 or hexadecimal system is a natural way to rep-resent the binary data stored in a computer.  It is more com-pact than binary because four binary digits can be replaced by a single “hex” digit. The  following  table  gives  the  corresponding  decimal, binary, and hex values from 0 to 15:Note that decimal and hex digits are the same from 0 to 9,  but  hex  uses  the  letters  A–F  to  represent  the  digits  cor-responding to decimal 10–15.  The system extends to higher numbers  using  increasing  powers  of  16,  just  as  decimal uses  powers  of  10:  For  example,  hex  FF  represents  binary 111  11111 or decimal 255.  many of the apparently arbitrary numbers encountered in programming can be better under-stood  if  one  realizes  that  they  correspond  to  convenient groupings of bits: FF is eight bits, sufficient to hold a single character ,.  In low-level pro-gramming memory addresses are also usually given in hex\")"
   ]
  },
  {
   "cell_type": "code",
   "execution_count": 390,
   "id": "a777a67d",
   "metadata": {},
   "outputs": [
    {
     "name": "stderr",
     "output_type": "stream",
     "text": [
      "The following columns in the test set don't have a corresponding argument in `DistilBertForSequenceClassification.forward` and have been ignored: cleanp. If cleanp are not expected by `DistilBertForSequenceClassification.forward`,  you can safely ignore this message.\n",
      "***** Running Prediction *****\n",
      "  Num examples = 153\n",
      "  Batch size = 8\n"
     ]
    },
    {
     "data": {
      "text/html": [],
      "text/plain": [
       "<IPython.core.display.HTML object>"
      ]
     },
     "metadata": {},
     "output_type": "display_data"
    },
    {
     "name": "stdout",
     "output_type": "stream",
     "text": [
      "(153, 2) (153,)\n"
     ]
    }
   ],
   "source": [
    "predictions = trainer.predict(tokenized_datasets[\"test\"])\n",
    "print(predictions.predictions.shape, predictions.label_ids.shape)"
   ]
  },
  {
   "cell_type": "code",
   "execution_count": 391,
   "id": "702d1cb6",
   "metadata": {},
   "outputs": [
    {
     "data": {
      "text/plain": [
       "{'accuracy': 0.9803921568627451, 'f1': 0.979591836734694}"
      ]
     },
     "execution_count": 391,
     "metadata": {},
     "output_type": "execute_result"
    }
   ],
   "source": [
    "import evaluate\n",
    "\n",
    "#Defining 'preds' which has predictions made by model\n",
    "preds = np.argmax(predictions.predictions, axis=-1)\n",
    "\n",
    "#calculating performance of model\n",
    "metric = evaluate.load(\"glue\", \"mrpc\")\n",
    "metric.compute(predictions=preds, references=predictions.label_ids)"
   ]
  },
  {
   "cell_type": "code",
   "execution_count": 398,
   "id": "f7840bbb",
   "metadata": {},
   "outputs": [
    {
     "name": "stdout",
     "output_type": "stream",
     "text": [
      "Accuracy of DistilBERT 0.9803921568627451:\n"
     ]
    }
   ],
   "source": [
    "print('Accuracy of DistilBERT {}:'.format(metrics.accuracy_score(predictions.label_ids,preds)))"
   ]
  },
  {
   "cell_type": "code",
   "execution_count": 393,
   "id": "ff98f4e7",
   "metadata": {},
   "outputs": [
    {
     "data": {
      "text/plain": [
       "Text(95.72222222222221, 0.5, 'Truth')"
      ]
     },
     "execution_count": 393,
     "metadata": {},
     "output_type": "execute_result"
    },
    {
     "data": {
      "image/png": "[encoded data removed]",
      "text/plain": [
       "<Figure size 1000x700 with 2 Axes>"
      ]
     },
     "metadata": {},
     "output_type": "display_data"
    }
   ],
   "source": [
    "#Generating Confusion matrix\n",
    "from sklearn.metrics import confusion_matrix\n",
    "cm = confusion_matrix(predictions.label_ids, preds)\n",
    "cm_p=percentage_confusion_matrix(cm)\n",
    "\n",
    "from matplotlib import pyplot as plt\n",
    "import seaborn as sn\n",
    "plt.figure(figsize = (10,7))\n",
    "sn.heatmap(cm_p, annot=True)\n",
    "plt.title('Percentage Confusion Matrix of DistilBERT')\n",
    "plt.xlabel('Prediction')\n",
    "plt.ylabel('Truth')"
   ]
  },
  {
   "cell_type": "code",
   "execution_count": 394,
   "id": "4f108096",
   "metadata": {},
   "outputs": [
    {
     "data": {
      "image/png": "[encoded data removed]",
      "text/plain": [
       "<Figure size 960x720 with 1 Axes>"
      ]
     },
     "metadata": {},
     "output_type": "display_data"
    }
   ],
   "source": [
    "# calculate roc curve for model\n",
    "fpr, tpr, _ = roc_curve(predictions.label_ids, preds)\n",
    "# plot model roc curve\n",
    "pyplot.figure(figsize=(8,6), dpi=120)\n",
    "pyplot.plot(fpr, tpr, marker='.', label='DistilBERT')\n",
    "# axis labels\n",
    "pyplot.xlabel('False Positive Rate')\n",
    "pyplot.ylabel('True Positive Rate')\n",
    "# show the legend\n",
    "pyplot.legend()\n",
    "pyplot.grid()\n",
    "# show the plot\n",
    "\n",
    "pyplot.show()"
   ]
  }
 ],
 "metadata": {
  "kernelspec": {
   "display_name": "Python 3 (ipykernel)",
   "language": "python",
   "name": "python3"
  },
  "language_info": {
   "codemirror_mode": {
    "name": "ipython",
    "version": 3
   },
   "file_extension": ".py",
   "mimetype": "text/x-python",
   "name": "python",
   "nbconvert_exporter": "python",
   "pygments_lexer": "ipython3",
   "version": "3.9.13"
  }
 },
 "nbformat": 4,
 "nbformat_minor": 5
}
